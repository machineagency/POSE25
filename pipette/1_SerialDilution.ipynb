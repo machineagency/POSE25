{
 "cells": [
  {
   "cell_type": "markdown",
   "id": "85a5d29e-2269-4d63-8c89-eed9e8cb022f",
   "metadata": {
    "tags": []
   },
   "source": [
    "## Serial Dilution\n",
    "Get familiar with science-jubilee functionality using this serial dilution example notebook! We'll mix colors using a pipette tool."
   ]
  },
  {
   "cell_type": "code",
   "execution_count": null,
   "id": "f664cca6-6374-4dbb-9991-60051823a967",
   "metadata": {
    "tags": []
   },
   "outputs": [],
   "source": [
    "# Import the tools we'll need!\n",
    "from science_jubilee.Machine import Machine\n",
    "from science_jubilee.tools.Pipette import Pipette"
   ]
  },
  {
   "cell_type": "code",
   "execution_count": null,
   "id": "089a2e5c-12e2-4b0b-b254-73319f385905",
   "metadata": {
    "tags": []
   },
   "outputs": [],
   "source": [
    "# Connect to the machine\n",
    "m = Machine(address='192.168.1.2')"
   ]
  },
  {
   "cell_type": "code",
   "execution_count": null,
   "id": "261a16cd",
   "metadata": {},
   "outputs": [],
   "source": [
    "# m.home_all() # if you need to, uncomment this line to home the machine"
   ]
  },
  {
   "cell_type": "markdown",
   "id": "8ccca21b-0b3c-4b92-bbdb-f3eba1f49f5d",
   "metadata": {
    "tags": []
   },
   "source": [
    "### 1. Set up our tools\n",
    "We'll use a pipette tool to move liquid and a lab automation deck to hold labware "
   ]
  },
  {
   "cell_type": "code",
   "execution_count": null,
   "id": "c95cb757",
   "metadata": {},
   "outputs": [],
   "source": [
    "# we can check our tool indices if we need to\n",
    "m.configured_tools"
   ]
  },
  {
   "cell_type": "code",
   "execution_count": null,
   "id": "cf023e6f-1a30-4ca4-93d4-4ff0cde3e764",
   "metadata": {
    "tags": []
   },
   "outputs": [],
   "source": [
    "pipette_index = 3               # if needed, change this to match the tool number for the pipette on your machine\n",
    "pipette_config = \"P300_config\"  # change this to P300_config for a P300 pipette, P1000_config for a P1000 pipette\n",
    "pipette_name = \"Pipette\"        # No need to change this\n",
    "\n",
    "pipette = Pipette.from_config(\n",
    "                            index = pipette_index,\n",
    "                            name = pipette_name,\n",
    "                            config_file = pipette_config\n",
    "                            )\n",
    "m.load_tool(pipette)\n",
    "\n",
    "# We use a lab automation deck to hold labware\n",
    "deck = m.load_deck('POSE-calibrated-deck')"
   ]
  },
  {
   "cell_type": "markdown",
   "id": "e73cc591",
   "metadata": {},
   "source": [
    "### 2. Load our labware!\n",
    "We'll use a 6 well plate to hold our stocks, and a 96-well plate to mix colors. Now, you should add:\n",
    "- a tiprack for your pipette into slot 0\n",
    "- a trash for your pipette into slot 5\n",
    "- a 6 well plate with water in well A1, and water mixed with some watercoler in well A2, loaded into slot 1\n",
    "- a 96 well plate into slot 3\n",
    "\n",
    "Note we use slots 1 & 3 for the stocks and samples to minimize the travel distance.\n",
    "\n",
    "You can prep these materials before moving on, or run the cells without liquid to do a dry run."
   ]
  },
  {
   "cell_type": "code",
   "execution_count": null,
   "id": "a33fea90",
   "metadata": {},
   "outputs": [],
   "source": [
    "# You might have EITHER a P300 or P1000 pipette and associated tiprack on your machine.\n",
    "# uncomment the relevent line for your machine!\n",
    "\n",
    "# tiprack = m.load_labware('opentrons_96_tiprack_300ul', 0)   # Uncomment if you have a P300 pipette, otherwise delete!\n",
    "# tiprack = m.load_labware('opentrons_96_tiprack_1000ul', 0)  # Uncomment if you have a P100 pipette, otherwise delete!\n",
    "trash = m.load_labware('generic_petri_dish_100ml', 5)         # Petri dish in slot 5, used as pipette tip trash\n",
    "stocks = m.load_labware('scienfocus_6_wellplate_15900ul', 1)  # 6 well plate in slot 1\n",
    "samples = m.load_labware('falcon_96_wellplate_360ul_flat', 3) # 96 well plate in slot 3\n",
    "\n",
    "# For convenience, we can directly access our stock wells\n",
    "water = stocks[\"A1\"]                                          # plain water in well A1\n",
    "color = stocks[\"A2\"]                                          # with mixed with watercolor in well A2\n"
   ]
  },
  {
   "cell_type": "code",
   "execution_count": null,
   "id": "3ba263b9",
   "metadata": {},
   "outputs": [],
   "source": [
    "pipette.add_tiprack(tiprack) # Associate our pipette with our tiprack\n",
    "pipette.trash = trash[0]     # The petri dish is a single well, so we set the 'well' as the trash"
   ]
  },
  {
   "cell_type": "markdown",
   "id": "6839d3e5",
   "metadata": {},
   "source": [
    "Now physically install this labware in the machine! Double check you're adding ther correct labware to the correct slots, and oriented the right way."
   ]
  },
  {
   "cell_type": "code",
   "execution_count": null,
   "id": "c1abd4c0-cebe-4970-961b-3d12ed986f16",
   "metadata": {
    "tags": []
   },
   "outputs": [],
   "source": [
    "# Drop the bed down so we have room to load our labware\n",
    "m.move_to(z=150)\n"
   ]
  },
  {
   "cell_type": "code",
   "execution_count": null,
   "id": "84e341eb",
   "metadata": {},
   "outputs": [],
   "source": [
    "# Pick up the pipette\n",
    "m.pickup_tool(pipette)"
   ]
  },
  {
   "cell_type": "markdown",
   "id": "dab212c6-73b4-4298-a23b-f3752b9430d8",
   "metadata": {},
   "source": [
    "### 3. Set up the sample plate\n",
    "To set up the sample plate, we want to put water in all wells. Then, we want to put our color water into the first column to transfer down the line. \n",
    "\n",
    "Since it takes a good bit of time to transfer all the required liquid for an entire 96-well plate, we'll use the first 3 rows and first 3 columns as an example\n",
    "\n",
    "The following cells will:\n",
    "- move water into all the relevant wells \n",
    "- move colored water into the first column"
   ]
  },
  {
   "cell_type": "code",
   "execution_count": null,
   "id": "7026618a",
   "metadata": {},
   "outputs": [],
   "source": [
    "# We'll only transfer liquid to the first 3 rows and columns, since filling up an entire 96-wel plate takes a while\n",
    "row_subset = list(samples.row_data)[0:3]\n",
    "column_subset = list(samples.column_data)[0:3]\n",
    "print(row_subset)       # rows A-\n",
    "print(column_subset)    # columns 1-C"
   ]
  },
  {
   "cell_type": "code",
   "execution_count": null,
   "id": "cb66ae8c-0a7c-4d00-82d0-b684b7ed0f33",
   "metadata": {
    "tags": []
   },
   "outputs": [],
   "source": [
    "# This well will fill all the relevant wells with water!\n",
    "pipette.pickup_tip()\n",
    "fill_volume = 50                                                        # Put 50 uL of water in all wells\n",
    "\n",
    "for row in row_subset:\n",
    "    for column in column_subset:\n",
    "         pipette.transfer(\n",
    "            vol = fill_volume,                                           # move the specified volume...\n",
    "            source_well = water.bottom(3),                               # from the water well...\n",
    "            destination_well = samples.wells[f\"{row}{column}\"].top(-1),  # to the sample well...\n",
    "            new_tip = 'never'                                            # and use the same tip for all transfers\n",
    "        )\n",
    "\n",
    "# note we had to manually pickup a tip to use the 'never' tip strategy"
   ]
  },
  {
   "cell_type": "code",
   "execution_count": null,
   "id": "98d089f9",
   "metadata": {},
   "outputs": [],
   "source": [
    "# This cell will add 100 uL of color water to the first row\n",
    "fill_volume = 100\n",
    "pipette.transfer(\n",
    "                vol = fill_volume,                                      # move the specified volume\n",
    "                source_well = color,                                    # from the color water well\n",
    "                destination_well = samples.column_data[1][0:3],         # to the first 3 wells in column 1\n",
    "                new_tip = 'never',                                      # use the same tip\n",
    "                mix_after = (100, 2)                                    # and mix after dispensing\n",
    "                )"
   ]
  },
  {
   "cell_type": "markdown",
   "id": "af13fa5c-9344-43c0-a321-58baa772d538",
   "metadata": {},
   "source": [
    "### Run Serial Dilution!\n",
    "The following cell will transfer and mix samples down each row of the well plate"
   ]
  },
  {
   "cell_type": "code",
   "execution_count": null,
   "id": "7c5dea63-e2a8-42ec-9c75-215bdddb53d0",
   "metadata": {
    "tags": []
   },
   "outputs": [],
   "source": [
    "fill_volume = 100\n",
    "for row in row_subset:\n",
    "    for column in range(1, len(column_subset)):\n",
    "        pipette.transfer(\n",
    "            vol = fill_volume,\n",
    "            source_well = samples.wells[f\"{row}{column}\"],\n",
    "            destination_well = samples.wells[f\"{row}{column+1}\"],\n",
    "            mix_after = (50, 2),\n",
    "            new_tip = 'never'\n",
    "        )"
   ]
  },
  {
   "cell_type": "markdown",
   "id": "73e63ec9",
   "metadata": {},
   "source": [
    "## End of Serial Dilution! "
   ]
  },
  {
   "cell_type": "code",
   "execution_count": null,
   "id": "df3ff701",
   "metadata": {},
   "outputs": [],
   "source": [
    "# You can drop the bed down to remove your labware\n",
    "m.move_to(z=150)"
   ]
  },
  {
   "cell_type": "markdown",
   "id": "bbbafdbc",
   "metadata": {},
   "source": []
  }
 ],
 "metadata": {
  "kernelspec": {
   "display_name": "Python 3 (ipykernel)",
   "language": "python",
   "name": "python3"
  },
  "language_info": {
   "codemirror_mode": {
    "name": "ipython",
    "version": 3
   },
   "file_extension": ".py",
   "mimetype": "text/x-python",
   "name": "python",
   "nbconvert_exporter": "python",
   "pygments_lexer": "ipython3",
   "version": "3.12.9"
  }
 },
 "nbformat": 4,
 "nbformat_minor": 5
}
