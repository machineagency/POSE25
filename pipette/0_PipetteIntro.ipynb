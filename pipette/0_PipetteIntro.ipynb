{
 "cells": [
  {
   "cell_type": "markdown",
   "metadata": {},
   "source": [
    "# Pipette Intro\n",
    "This example notebook will show you how to do simple liquid handling with an OT-2 tool. It assumes you know a little bit about the [laboratory automation deck](../labware/0_AutomationDeckIntro.ipynb) and [installing labware](../labware/1_LabwareIntro.ipynb).\n",
    "\n",
    "### Before Starting:\n",
    "- Clear any existing items off the bed of your machine!\n",
    "- A lab automation deck and pipette should be installed on your machine"
   ]
  },
  {
   "cell_type": "code",
   "execution_count": null,
   "metadata": {},
   "outputs": [],
   "source": [
    "### Import modules and connect to the machine\n",
    "from science_jubilee.Machine import Machine\n",
    "from science_jubilee.decks import Deck\n",
    "from science_jubilee.tools import Pipette"
   ]
  },
  {
   "cell_type": "code",
   "execution_count": null,
   "metadata": {},
   "outputs": [],
   "source": [
    "m = Machine(address='10.19.103.41') # connect to the machine"
   ]
  },
  {
   "cell_type": "code",
   "execution_count": null,
   "metadata": {},
   "outputs": [],
   "source": [
    "deck = m.load_deck('lab_automation_deck') # load in your deck calibration"
   ]
  },
  {
   "cell_type": "markdown",
   "metadata": {},
   "source": [
    "### Labware Preparation\n",
    "Now we need to load all labware both *physically* and *digitally* . \n",
    "\n",
    "* Digitally: we'l load the `labware` we want to use and indicate which `slot` each is assigned to\n",
    "* Physically: install the labware onto the deck of your Jubilee\n",
    "\n",
    "For this example, we'll use the following labware:\n",
    "\n",
    "* A **Tiprack** that is suitable for the pipette you are using to transfer your liquids. We'll use an OpenTrons tiprack. \n",
    "* A **Sample Labware** that will be used to collect samples. We'll use a 96 well plate.\n",
    "* A **Stock Labware** that will host your stock liquids. We'll use a 6-well plate.\n",
    "* A **trash** to collect used tips. We'll use a petri dish."
   ]
  },
  {
   "cell_type": "markdown",
   "metadata": {},
   "source": [
    "If you'd like, you can fill your stock labware (the 24 well plate) wells A1 and A2 with water. You're welcome to add water color/etc as well, or just leave them empty to do a dry run."
   ]
  },
  {
   "cell_type": "code",
   "execution_count": null,
   "metadata": {},
   "outputs": [],
   "source": [
    "# -------------- Labware ------------------\n",
    "tiprack = m.load_labware('opentrons_96_tiprack_300ul', 0)       # OpenTrons tip rack in slot 0\n",
    "trash = m.load_labware('generic_petri_dish_100ml', 1)           # Petri dish in slot 1\n",
    "samples = m.load_labware('fisherbrand_96_wellplate_360ul', 2)   # 96 well plate in slot 2\n",
    "stocks = m.load_labware('greiner_24_wellplate_3300ul', 3)       # 24 well plate in slot 3\n"
   ]
  },
  {
   "cell_type": "markdown",
   "metadata": {},
   "source": [
    "### Tool Setup\n",
    "\n",
    "To use your tool, you'll need to set a `tool_index` and a `tool_name`. These should be the same as the ones defined in your machine's `config.g` file that appear in the Duet Web Control panel.\n",
    "\n",
    "You will also import a configuration file for your pipette. If you're using a P300 pipette, use the `P300_config`; if you have a P1000 pipette, use `P1000_config`!"
   ]
  },
  {
   "cell_type": "code",
   "execution_count": null,
   "metadata": {},
   "outputs": [],
   "source": [
    "pipette_index = 3           # change this number to match the tool number for the pipette on your machine!\n",
    "pipette_config = \"P300_config\"  # change this to P300_config for a P300 pipette, P1000_config for a P1000 pipette\n",
    "pipette_name = \"Pipette\"        # No need to change this\n"
   ]
  },
  {
   "cell_type": "code",
   "execution_count": null,
   "metadata": {},
   "outputs": [],
   "source": [
    "pipette = Pipette.Pipette.from_config(pipette_index, pipette_name, pipette_config) \n",
    "m.load_tool(pipette)"
   ]
  },
  {
   "cell_type": "markdown",
   "metadata": {},
   "source": [
    "Even though you will be able to use te pipette after running the above cell, you can associate its `tiprack` to the tool, as well as define a `trash` location. This will help keep the code readable\n"
   ]
  },
  {
   "cell_type": "code",
   "execution_count": null,
   "metadata": {},
   "outputs": [],
   "source": [
    "pipette.add_tiprack(tiprack)\n",
    "pipette.trash = trash[0]"
   ]
  },
  {
   "cell_type": "markdown",
   "metadata": {},
   "source": [
    "We can now pickup our tool and start playing around with it!"
   ]
  },
  {
   "cell_type": "code",
   "execution_count": null,
   "metadata": {},
   "outputs": [],
   "source": [
    "m.pickup_tool(pipette)"
   ]
  },
  {
   "cell_type": "markdown",
   "metadata": {},
   "source": [
    "## Moving Liquids\n",
    "Now, that our tool is active, we can choose start moving liquids around. In the following cells, we will:\n",
    "* pickup a tip\n",
    "* aspirate a certain volume ( in $\\mu$ L) from a source reservoir/well\n",
    "* dispense it into a destination well\n",
    "* return the tip ( if we want to reuse it) *OR* drop the tip in the trash"
   ]
  },
  {
   "cell_type": "code",
   "execution_count": null,
   "metadata": {},
   "outputs": [],
   "source": [
    "# by default, we'll pickup the first tip in the tiprack\n",
    "# make sure your tiprack is loaded up with tips!\n",
    "pipette.pickup_tip() "
   ]
  },
  {
   "cell_type": "code",
   "execution_count": null,
   "metadata": {},
   "outputs": [],
   "source": [
    "# Now we'll pick up some liquid from our stock plate\n",
    "pipette.aspirate(250, stocks['A1'].bottom(3)) # (volume in microliters, well to aspirate from)"
   ]
  },
  {
   "cell_type": "code",
   "execution_count": null,
   "metadata": {},
   "outputs": [],
   "source": [
    "# Nowd dispense into our samples plate\n",
    "pipette.dispense(250, samples['A1'].top(-1)) # (volume in microliters, well to dispense to)"
   ]
  },
  {
   "cell_type": "markdown",
   "metadata": {},
   "source": [
    "Once we are done, we can drop our tip in our 'trash'"
   ]
  },
  {
   "cell_type": "code",
   "execution_count": null,
   "metadata": {},
   "outputs": [],
   "source": [
    "pipette.drop_tip()"
   ]
  },
  {
   "cell_type": "markdown",
   "metadata": {},
   "source": [
    "## Tranfser Function\n",
    "Above, we used `pickup_tip`, `aspirate`, `dispense`, and `drop_tip`to manually  take care of our liquid handling. We can instead use `transfer()` which will take care of both at the same time."
   ]
  },
  {
   "cell_type": "code",
   "execution_count": null,
   "metadata": {},
   "outputs": [],
   "source": [
    "pipette.transfer(\n",
    "            vol = 250,                                    # volume to transer in microliters\n",
    "            source_well = stocks['A1'].bottom(5),         # source well to transer from\n",
    "            destination_well = samples['A2'].top(-1),     # destination well to transfer to\n",
    "            blowout = True,                               # blowout after dispensing to make sure there's not dripping\n",
    "            mix_after = (200, 3)                          # mix after dispensing (volume in microliters, number of times to mix)\n",
    "            )"
   ]
  },
  {
   "cell_type": "markdown",
   "metadata": {},
   "source": [
    "You can also provide a list of volumes and source_wells to make things a bit easier. The index of volumes and source_wells are 1:1. "
   ]
  },
  {
   "cell_type": "code",
   "execution_count": null,
   "metadata": {},
   "outputs": [],
   "source": [
    "volumes = [50, 100, 50]                                                              # transfer 50 microliters, then 100, then 50 \n",
    "stocks = [stocks['A1'].bottom(5), stocks['A2'].bottom(5), stocks['A3'].bottom(5)]    # transfer from stock wells A1, then A2, then A3\n",
    "destination = samples['A3'].top(-1)                                                  # move all samples into sample well A3\n",
    "\n",
    "pipette.transfer(\n",
    "            vol = volumes,\n",
    "            source_well = stocks,\n",
    "            destination_well = destination,\n",
    "            blowout = True, \n",
    "            new_tip = 'once',\n",
    "            mix_after = (200, 3)\n",
    ")"
   ]
  },
  {
   "cell_type": "markdown",
   "metadata": {},
   "source": [
    "In the above transfer function, we used `new_tip = 'once'` to use the same tip for all the transfers. We could alternatively use `new_tip = 'always'` to get a new pipette tip for every transfer, or `new_tip = 'never'` if we already have a tip attached"
   ]
  },
  {
   "cell_type": "markdown",
   "metadata": {},
   "source": [
    "## Next Steps\n",
    "If you want more pipette examples, you can look at the [serial dilution example notebook](./1_SerialDilution.ipynb)"
   ]
  }
 ],
 "metadata": {
  "kernelspec": {
   "display_name": "POSE25-311",
   "language": "python",
   "name": "pose25-311"
  },
  "language_info": {
   "codemirror_mode": {
    "name": "ipython",
    "version": 3
   },
   "file_extension": ".py",
   "mimetype": "text/x-python",
   "name": "python",
   "nbconvert_exporter": "python",
   "pygments_lexer": "ipython3",
   "version": "3.11.9"
  }
 },
 "nbformat": 4,
 "nbformat_minor": 2
}
