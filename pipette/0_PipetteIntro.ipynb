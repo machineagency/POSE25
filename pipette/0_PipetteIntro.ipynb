{
 "cells": [
  {
   "cell_type": "markdown",
   "metadata": {},
   "source": [
    "# Pipette Intro\n",
    "This example notebook will show you how to do simple liquid handling with an OT-2 tool. It assumes you know a little bit about the [laboratory automation deck](../labware/0_AutomationDeckIntro.ipynb) and [installing labware](../labware/1_LabwareIntro.ipynb).\n",
    "\n",
    "### Before Starting:\n",
    "- Clear any existing items off the bed of your machine!\n",
    "- A lab automation deck and pipette should be installed on your machine"
   ]
  },
  {
   "cell_type": "code",
   "execution_count": null,
   "metadata": {},
   "outputs": [],
   "source": [
    "### Import modules and connect to the machine\n",
    "from science_jubilee.Machine import Machine\n",
    "from science_jubilee.tools.Pipette import Pipette\n",
    "from science_jubilee.labware.Labware import Labware"
   ]
  },
  {
   "cell_type": "code",
   "execution_count": null,
   "metadata": {},
   "outputs": [],
   "source": [
    "m = Machine(address='192.168.1.2') # connect to the machine"
   ]
  },
  {
   "cell_type": "code",
   "execution_count": null,
   "metadata": {},
   "outputs": [],
   "source": [
    "# m.home_all() # if you need to, uncomment this line to home the machine"
   ]
  },
  {
   "cell_type": "code",
   "execution_count": null,
   "metadata": {},
   "outputs": [],
   "source": [
    "deck = m.load_deck('POSE-calibrated-deck') # load in your deck calibration"
   ]
  },
  {
   "cell_type": "markdown",
   "metadata": {},
   "source": [
    "### Labware Preparation\n",
    "Now we need to load all labware both *physically* and *digitally* . \n",
    "\n",
    "* Digitally: we'll load the `labware` we want to use and indicate which `slot` each is assigned to\n",
    "* Physically: install the labware onto the deck of your Jubilee\n",
    "\n",
    "For this example, we'll use the following labware:\n",
    "\n",
    "* A **Tiprack** that is suitable for the pipette you are using to transfer your liquids. We'll use an OpenTrons tiprack. \n",
    "* A **Sample Labware** that will be used to collect samples. We'll use a 96 well plate.\n",
    "* A **Stock Labware** that will host your stock liquids. We'll use a 6-well plate.\n",
    "* A **trash** to collect used tips. We'll use a petri dish."
   ]
  },
  {
   "cell_type": "markdown",
   "metadata": {},
   "source": [
    "If you'd like, you can fill your stock labware (the 6 well plate) wells A1, A2, and A3 with water. You're welcome to add water color/etc as well, or just leave them empty to do a dry run."
   ]
  },
  {
   "cell_type": "code",
   "execution_count": null,
   "metadata": {},
   "outputs": [],
   "source": [
    "# -------------- Labware ------------------\n",
    "# You might have EITHER a P300 or P1000 pipette and associated tiprack on your machine.\n",
    "# uncomment the relevent line for your machine!\n",
    "\n",
    "# tiprack = m.load_labware('opentrons_96_tiprack_300ul', 0)   # Uncomment if you have a P300 pipette, otherwise delete!\n",
    "# tiprack = m.load_labware('opentrons_96_tiprack_1000ul', 0)  # Uncomment if you have a P100 pipette, otherwise delete!\n",
    "trash = m.load_labware('generic_petri_dish_100ml', 1)         # Petri dish in slot 1, used as trash\n",
    "samples = m.load_labware('falcon_96_wellplate_360ul_flat', 2) # 96 well plate in slot 2\n",
    "stocks = m.load_labware('scienfocus_6_wellplate_15900ul', 3)  # 6 well plate in slot 3\n"
   ]
  },
  {
   "cell_type": "code",
   "execution_count": null,
   "metadata": {},
   "outputs": [],
   "source": [
    "m.move_to(z=150) # Drop the bed down to create space to physically load your labware "
   ]
  },
  {
   "cell_type": "markdown",
   "metadata": {},
   "source": [
    "**Before moving on**, you should physically install these labware on your machine! It's always good to double check that you've put the correct labware into the correct slot; the tool can crash into labware if your digital setup differs from your physical one."
   ]
  },
  {
   "cell_type": "markdown",
   "metadata": {},
   "source": [
    "### Tool Setup\n",
    "\n",
    "To use your tool, you'll need to set a `tool_index` and a `tool_name`. These should be the same as the ones defined in your machine's `config.g` file that appear in the Duet Web Control panel.\n",
    "\n",
    "You will also import a configuration file for your pipette. If you're using a P300 pipette, use the `P300_config`; if you have a P1000 pipette, use `P1000_config`!"
   ]
  },
  {
   "cell_type": "code",
   "execution_count": null,
   "metadata": {},
   "outputs": [],
   "source": [
    "# You can check what tools are configured at what indices\n",
    "m.configured_tools"
   ]
  },
  {
   "cell_type": "code",
   "execution_count": null,
   "metadata": {},
   "outputs": [],
   "source": [
    "pipette_index = 3               # change this number to match the tool number for the pipette on your machine!\n",
    "pipette_config = \"P300_config\"  # change this to P300_config for a P300 pipette, P1000_config for a P1000 pipette\n",
    "pipette_name = \"Pipette\"        # No need to change this\n"
   ]
  },
  {
   "cell_type": "code",
   "execution_count": null,
   "metadata": {},
   "outputs": [],
   "source": [
    "pipette = Pipette.from_config(pipette_index, pipette_name, pipette_config) \n",
    "m.load_tool(pipette)"
   ]
  },
  {
   "cell_type": "markdown",
   "metadata": {},
   "source": [
    "Now we can associate a `tiprack` and a `trash` with the pipette to pickup and dispense tips"
   ]
  },
  {
   "cell_type": "code",
   "execution_count": null,
   "metadata": {},
   "outputs": [],
   "source": [
    "pipette.add_tiprack(tiprack)\n",
    "pipette.trash = trash[0]    # the petri dish is a single well, so we set the 'well' as the trash"
   ]
  },
  {
   "cell_type": "markdown",
   "metadata": {},
   "source": [
    "We can now pickup our tool!"
   ]
  },
  {
   "cell_type": "code",
   "execution_count": null,
   "metadata": {},
   "outputs": [],
   "source": [
    "m.pickup_tool(pipette)"
   ]
  },
  {
   "cell_type": "markdown",
   "metadata": {},
   "source": [
    "## Moving Liquids\n",
    "Now, that our tool is active, we can choose start moving liquids around. In the following cells, we will:\n",
    "* pickup a tip\n",
    "* aspirate a certain volume ( in $\\mu$ L) from a source reservoir/well\n",
    "* dispense it into a destination well\n",
    "* return the tip ( if we want to reuse it) *OR* drop the tip in the trash"
   ]
  },
  {
   "cell_type": "code",
   "execution_count": null,
   "metadata": {},
   "outputs": [],
   "source": [
    "# By default, we'll pickup the first tip in the tiprack\n",
    "# Make sure your tiprack is loaded up with tips!\n",
    "pipette.pickup_tip() "
   ]
  },
  {
   "cell_type": "markdown",
   "metadata": {},
   "source": [
    "The **aspirate** command will move to a given well and then aspirate a specified volume of liquid from a well. The command will automatically move in the Z direction to make sure that it doesn't collide with any installed labware. Note that if you send `move` commands manually (via code or via Duet Web Control), you can still collide with labware!\n",
    "\n",
    "We also specify the height to aspirate from using `bottom(z_offset)`, where we supply a distance in mm from the bottom of the well. This is used to account for any slight errors in the calibration process."
   ]
  },
  {
   "cell_type": "code",
   "execution_count": null,
   "metadata": {},
   "outputs": [],
   "source": [
    "# Now we'll pick up some liquid from our stock plate\n",
    "# Th aspirate command will automatically move in Z and then to the specified well\n",
    "pipette.aspirate(250, stocks['A1'].bottom(3)) # (volume in microliters, well to aspirate from)\n",
    "                                              # .bottom(3) indicates to aspirate from 3 mm above the bottom of the well"
   ]
  },
  {
   "cell_type": "markdown",
   "metadata": {},
   "source": [
    "The **dispense** command will move to a given well and then dispence a specified volume of liquid into a well. The command will automatically move in the Z direction to make sure that it doesn't collide with any installed labware. Note that if you send `move` commands manually (via code or via Duet Web Control), you can still collide with labware!\n",
    "\n",
    "We also specify the height to dispense from using `.top(z_offset)`, where we supply a distance in mm from the top of the well. This is used to account for any slight errors in the calibration process."
   ]
  },
  {
   "cell_type": "code",
   "execution_count": null,
   "metadata": {},
   "outputs": [],
   "source": [
    "# Nowd dispense into our samples plate\n",
    "pipette.dispense(250, samples['A1'].top(-1)) # (volume in microliters, well to dispense to)\n",
    "                                             # .top(-1) indicates to dispense from just 1mm into top of  the well"
   ]
  },
  {
   "cell_type": "markdown",
   "metadata": {},
   "source": [
    "Once we are done, we can either return the tip to the tip rack, or drop it into the trash"
   ]
  },
  {
   "cell_type": "code",
   "execution_count": null,
   "metadata": {},
   "outputs": [],
   "source": [
    "# if you're just using water, you probably want to return the tip to the tip rack\n",
    "# if you wanted to trash the tip, you could instead use pipette.drop_tip()\n",
    "pipette.return_tip() "
   ]
  },
  {
   "cell_type": "markdown",
   "metadata": {},
   "source": [
    "## Tranfser Function\n",
    "Above, we used `pickup_tip`, `aspirate`, `dispense`, and `return_tip`to manually move our liquid. In general, we won't actually use these more atomic commands. Instead, we can instead use `transfer()` which will take care of everything at once, including tracking tips and moving liquids."
   ]
  },
  {
   "cell_type": "markdown",
   "metadata": {},
   "source": [
    "In out transfer function, we can specify some additional details, such as:\n",
    "\n",
    "- **blowout:** Should we push an extra amount of air through the pipette tip to make sure that any remaining droplets are expelled? True or False, False by default\n",
    "\n",
    "- **mix_after:** Should we mix after dispensing liquid? This is done by aspirating and dispensing the liquid. You can specify a (volume in microliters, number of times to mix) \n",
    "\n",
    "- **new_tip:** Sets the tip strategy for the transfer. Possible settings include:\n",
    "    - 'always': Trash the tip after every transfer and get a new one\n",
    "    - 'once':   Return the tip back to the tip rack after use\n",
    "    - 'never':  Don't pick up a tip; to use this strategy, you need to pickup a tip manually with `pickup_tip`\n"
   ]
  },
  {
   "cell_type": "code",
   "execution_count": null,
   "metadata": {},
   "outputs": [],
   "source": [
    "# This function will pick up a tip, then transer liquid!\n",
    "pipette.transfer(\n",
    "            vol = 250,                                    # volume to transer in microliters\n",
    "            source_well = stocks['A1'].bottom(3),         # source well to transer from\n",
    "            destination_well = samples['A2'].top(-1),     # destination well to transfer to\n",
    "            blowout = True,                               # blowout after dispensing\n",
    "            mix_after = (200, 3),                         # mix after dispensing (vol in microliters, # times to mix)\n",
    "            new_tip = 'once'                              # return the tip after use\n",
    "            )"
   ]
  },
  {
   "cell_type": "markdown",
   "metadata": {},
   "source": [
    "You can also provide a list of volumes and source_wells to make things a bit easier. The index of volumes and source_wells are 1:1. "
   ]
  },
  {
   "cell_type": "code",
   "execution_count": null,
   "metadata": {},
   "outputs": [],
   "source": [
    "volumes = [50, 100, 50]                 # transfer 50 microliters, then 100, then 50 \n",
    "stocks = [\n",
    "        stocks['A1'].bottom(3),         # transfer from stock wells A1, then A2, then A3\n",
    "        stocks['A2'].bottom(3),\n",
    "        stocks['A3'].bottom(3)\n",
    "        ]   \n",
    "destination = samples['A3'].top(-1)     # move all samples into sample well A3\n",
    "\n",
    "pipette.transfer(\n",
    "            vol = volumes,\n",
    "            source_well = stocks,\n",
    "            destination_well = destination,\n",
    "            blowout = True, \n",
    "            new_tip = 'once',\n",
    "            mix_after = (200, 3)\n",
    ")"
   ]
  },
  {
   "cell_type": "markdown",
   "metadata": {},
   "source": [
    "## Next Steps\n",
    "If you want more pipette examples, you can look at the [serial dilution example notebook](./1_SerialDilution.ipynb)"
   ]
  }
 ],
 "metadata": {
  "kernelspec": {
   "display_name": "POSE25-311",
   "language": "python",
   "name": "pose25-311"
  },
  "language_info": {
   "codemirror_mode": {
    "name": "ipython",
    "version": 3
   },
   "file_extension": ".py",
   "mimetype": "text/x-python",
   "name": "python",
   "nbconvert_exporter": "python",
   "pygments_lexer": "ipython3",
   "version": "3.11.9"
  }
 },
 "nbformat": 4,
 "nbformat_minor": 2
}
