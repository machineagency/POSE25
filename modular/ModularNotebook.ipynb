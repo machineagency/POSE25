{
 "cells": [
  {
   "cell_type": "markdown",
   "id": "03d93260-4fd5-40bf-9ec2-710bc74367c6",
   "metadata": {},
   "source": [
    "# Modular Notebook\n",
    "\n",
    "This example notebook has various commmands and buildings blocks to mix and match for custom applications.\n",
    "\n",
    "## Before Starting\n",
    "\n",
    "Clear any existing items off the bed of your machine!"
   ]
  },
  {
   "cell_type": "markdown",
   "id": "719a44ae-fe18-4809-bedc-70821f54df5e",
   "metadata": {},
   "source": [
    "## Step 1: Import the Science Jubilee Machine module"
   ]
  },
  {
   "cell_type": "code",
   "execution_count": null,
   "id": "93958a82-bcc5-499b-992f-4b85fc527814",
   "metadata": {},
   "outputs": [],
   "source": [
    "# Import the required modules\n",
    "from science_jubilee.Machine import Machine"
   ]
  },
  {
   "cell_type": "markdown",
   "id": "70146bdd-44be-4c1c-86dd-97ef1cb36308",
   "metadata": {},
   "source": [
    "## Step 2: Connect to the machine!\n",
    "This step will open the Duet Web Interface, which is very useful for reading machine states and controlling the machine for basic operations, like homing and moving the X, Y, and Z axes. "
   ]
  },
  {
   "cell_type": "code",
   "execution_count": null,
   "id": "95cccf2e-581a-410b-b1b4-f11e72f5a6b3",
   "metadata": {},
   "outputs": [],
   "source": [
    "m = Machine(address='192.168.1.2') #change the IP address if needed"
   ]
  },
  {
   "cell_type": "markdown",
   "id": "47972b1d-3b23-4112-affd-ff70146e3f2c",
   "metadata": {},
   "source": [
    "## Step 3: Set up tools"
   ]
  },
  {
   "cell_type": "code",
   "execution_count": null,
   "id": "666d1454-5a33-4667-8d53-4783c217be65",
   "metadata": {},
   "outputs": [],
   "source": [
    "# Import the required modules for the tool(s) you want to use (uncomment as needed)\n",
    "\n",
    "# from science_jubilee.tools.Syringe import Syringe\n",
    "# from science_jubilee.tools.Pipette import Pipette\n",
    "# from science_jubilee.tools import Camera\n",
    "# from science_jubilee.tools import Camera"
   ]
  },
  {
   "cell_type": "markdown",
   "id": "83e7599f-55f0-4870-89a1-eb5c7e1a1cd0",
   "metadata": {},
   "source": [
    "### Setting up a new tool\n",
    "When working with a new tool, you will need to add tool definition to Science Jubilee. Check [extending-science-jubilee](Documents/GitHub/POSE25/extending-science-jubilee/readme.md) for more detail!"
   ]
  },
  {
   "cell_type": "markdown",
   "id": "a8cf95a5-d4ec-48ba-9d75-1432320beec3",
   "metadata": {},
   "source": [
    "#### Extending an existing tool\n",
    "If you want to add functionality to an existing tool, you can edit the associated tool module. You can find all the tool modules in the `science_jubilee/tools` folder ([here](https://github.com/machineagency/science-jubilee/tree/main/src/science_jubilee/tools)); on the provided workshop latops, the `science-jubilee` repository is installed alongside this `POSE25` directory."
   ]
  },
  {
   "cell_type": "markdown",
   "id": "c2164e35-d729-4abf-aecc-2e79b9d3898e",
   "metadata": {},
   "source": [
    "#### Adding a new tool\n",
    "All tools inherit from the generic [Tool](https://github.com/machineagency/science-jubilee/blob/main/src/science_jubilee/tools/Tool.py) class. A new tool module might look like:"
   ]
  },
  {
   "cell_type": "code",
   "execution_count": null,
   "id": "33a95587-5c0e-4637-88a4-7edea9eb3477",
   "metadata": {},
   "outputs": [],
   "source": [
    "# import the following from the Tool module\n",
    "from science_jubilee.tools.Tool import (\n",
    "    Tool,\n",
    "    ToolConfigurationError,\n",
    "    ToolStateError,\n",
    "    requires_active_tool,\n",
    ")\n",
    "\n",
    "# Name your new tool here\n",
    "class MyCoolNewTool(Tool):\n",
    "    \"\"\"A class representation of a syringe.\n",
    "\n",
    "    :param Tool: The base tool class\n",
    "    :type Tool: :class:`Tool`\n",
    "    \"\"\"\n",
    "    def __init__(self, index, name, optional_additional_arguments): # you'll need an index and name\n",
    "        \"\"\"Constructor method\"\"\"\n",
    "        super().__init__(index, name) # You'll always want to initialize the tool like this\n",
    "\n",
    "        # Then you can set anything you need for your new tool, if relevant\n",
    "        self.my_fancy_tool_stuff = \"something\"\n",
    "    \n",
    "    @requires_active_tool # if there are functions that require the tool to be equipped, use this decorator!\n",
    "    def tool_functionality(self):\n",
    "        \"\"\"A function that can only be run when the tool is equipped\"\"\"\n",
    "        return \"stuff\"\n",
    "    \n",
    "    def other_function(self):\n",
    "        \"\"\"A function that doesn't require the tool to be equipped\"\"\"\n",
    "        return "
   ]
  },
  {
   "cell_type": "markdown",
   "id": "d7b85bf2-6901-46bb-a28d-a6893a4792b1",
   "metadata": {},
   "source": [
    "Take a look at some of the other tool modules for more references!"
   ]
  },
  {
   "cell_type": "markdown",
   "id": "8a3be583-5ac4-431a-bd6f-9abe861ae3fc",
   "metadata": {},
   "source": [
    "### Loading and picking up tool(s)"
   ]
  },
  {
   "cell_type": "code",
   "execution_count": null,
   "id": "7179cc9d-866d-4bea-94b6-1b7d86d7046c",
   "metadata": {},
   "outputs": [],
   "source": [
    "# to check what tools are currently loaded and configured and what their index is.\n",
    "m.configured_tools"
   ]
  },
  {
   "cell_type": "code",
   "execution_count": null,
   "id": "40f22204-caaf-4a30-8d18-3b4541f5ccfc",
   "metadata": {},
   "outputs": [],
   "source": [
    "# change the following tool_index variable to match your machine configuration, if necessary\n",
    "tool_index = 2"
   ]
  },
  {
   "cell_type": "code",
   "execution_count": null,
   "id": "fe4d39f0-e019-43e6-a542-0ac8d328ce75",
   "metadata": {},
   "outputs": [],
   "source": [
    "# name your tool\n",
    "# QUESTION: what would be a use case for changing the name of the tool? when does this cell come in handy?\n",
    "syringe = Syringe(index = tool_index,\n",
    "                  name = 'syringe',\n",
    "                  config = '10cc_syringe_liquidhandling'\n",
    "                 )"
   ]
  },
  {
   "cell_type": "code",
   "execution_count": null,
   "id": "70cd5984-2737-4064-bdcd-6ee2f3e0f827",
   "metadata": {},
   "outputs": [],
   "source": [
    "# load the tool (example for syring below)\n",
    "m.load_tool(syringe)"
   ]
  },
  {
   "cell_type": "code",
   "execution_count": null,
   "id": "e1df7c53-07ea-4559-b0b7-79b421e16e07",
   "metadata": {},
   "outputs": [],
   "source": [
    "# now you can pick up the tool! (example for syring below)\n",
    "m.pickup_tool(syringe)"
   ]
  },
  {
   "cell_type": "code",
   "execution_count": null,
   "id": "92c184f8-66bf-4e11-a330-a2b6874acb20",
   "metadata": {},
   "outputs": [],
   "source": [
    "# if you no longer want to use the tool, you can park it with:\n",
    "m.park_tool()"
   ]
  },
  {
   "cell_type": "markdown",
   "id": "9538cebb-79f7-4966-99c7-df01da768695",
   "metadata": {},
   "source": [
    "### Using the lab automation deck\n",
    "See the [labware introductory notebook](https://github.com/machineagency/POSE25/blob/main/labware/1_LabwareIntro.ipynb) for more information. "
   ]
  },
  {
   "cell_type": "code",
   "execution_count": null,
   "id": "a39e29b4-dd4a-4e3a-8660-a5196c99295d",
   "metadata": {},
   "outputs": [],
   "source": [
    "from science_jubilee.labware.Labware import Labware\n",
    "\n",
    "# We use a lab automation deck to hold labware\n",
    "deck = m.load_deck('POSE-calibrated-deck')"
   ]
  },
  {
   "cell_type": "markdown",
   "id": "893347a3-9005-43da-a861-53256c94dacd",
   "metadata": {},
   "source": [
    "## Step 4: Machine Moves\n",
    "See the [Machine Jogging notebook](https://github.com/machineagency/POSE25/blob/main/start-here/MachineJogging.ipynb) for more information."
   ]
  },
  {
   "cell_type": "markdown",
   "id": "49da2cde-6ad4-405a-aa56-ba6e0728bf14",
   "metadata": {},
   "source": [
    "### Home the Machine"
   ]
  },
  {
   "cell_type": "code",
   "execution_count": null,
   "id": "cfa54fdd-717c-4b0f-b98c-9fd86e069018",
   "metadata": {},
   "outputs": [],
   "source": [
    "m.home_all()"
   ]
  },
  {
   "cell_type": "markdown",
   "id": "4d62e86c-867e-4d46-92de-d938e2c12858",
   "metadata": {},
   "source": [
    "### Jog the Machine\n",
    "To move to an absolute position, use the `move_to` command!"
   ]
  },
  {
   "cell_type": "code",
   "execution_count": null,
   "id": "4e426c70-3682-4309-b7aa-23b1a7750252",
   "metadata": {},
   "outputs": [],
   "source": [
    "m.move_to(z=150) #drop the bed down"
   ]
  },
  {
   "cell_type": "code",
   "execution_count": null,
   "id": "dea561e3-4e5d-464d-8cb4-879b0d81c471",
   "metadata": {},
   "outputs": [],
   "source": [
    "m.move_to(x=100) #move in X"
   ]
  },
  {
   "cell_type": "code",
   "execution_count": null,
   "id": "636af652-6a9a-4f10-b9b1-05f59bf02c40",
   "metadata": {},
   "outputs": [],
   "source": [
    "m.move_to(y=200) #move in y"
   ]
  },
  {
   "cell_type": "markdown",
   "id": "2e6750ea-9ed4-4674-bf01-71db798b9fa8",
   "metadata": {},
   "source": [
    "### Change Speed\n",
    "Specify a speed with the `s` parameter. Units are in mm/min!"
   ]
  },
  {
   "cell_type": "code",
   "execution_count": null,
   "id": "9b431d97-f747-4812-a3d5-cd8b04919b68",
   "metadata": {},
   "outputs": [],
   "source": [
    "# Move in X slowly at 500 mm/min\n",
    "m.move_to(x = 200, s = 500)"
   ]
  },
  {
   "cell_type": "markdown",
   "id": "0587454a-8380-48d9-a787-4bbd88b9d5a8",
   "metadata": {},
   "source": [
    "To move relative to the current position, use the `move` command!"
   ]
  },
  {
   "cell_type": "code",
   "execution_count": null,
   "id": "9a8a8ee9-a7cc-4cd2-b63b-16bda6139241",
   "metadata": {},
   "outputs": [],
   "source": [
    "m.move(dx = 5) #increment X by 10 mm"
   ]
  },
  {
   "cell_type": "code",
   "execution_count": null,
   "id": "560c1dd7-37df-41ca-ba8f-424ef870b964",
   "metadata": {},
   "outputs": [],
   "source": [
    "m.move(dz = -10) #increment Z by -10"
   ]
  },
  {
   "cell_type": "code",
   "execution_count": null,
   "id": "5887c1ce-c3aa-44bf-8562-e73e80235006",
   "metadata": {},
   "outputs": [],
   "source": [
    "m.move(dx = 5, dy = 5, dz = 5, s = mm_sec(10)) #move slowly in X, Y, and Z"
   ]
  },
  {
   "cell_type": "markdown",
   "id": "038f14d3-a905-47e3-a18f-49fb4ad13b3b",
   "metadata": {},
   "source": [
    "### Check Position\n",
    "Check where we've ended up with `get_position` which returns a dictionary with the position of each axis of the machine."
   ]
  },
  {
   "cell_type": "code",
   "execution_count": null,
   "id": "4fca5dc3-9263-48ff-84d7-b75517bd3b91",
   "metadata": {},
   "outputs": [],
   "source": [
    "m.get_position()"
   ]
  }
 ],
 "metadata": {
  "kernelspec": {
   "display_name": "Python 3 (ipykernel)",
   "language": "python",
   "name": "python3"
  },
  "language_info": {
   "codemirror_mode": {
    "name": "ipython",
    "version": 3
   },
   "file_extension": ".py",
   "mimetype": "text/x-python",
   "name": "python",
   "nbconvert_exporter": "python",
   "pygments_lexer": "ipython3",
   "version": "3.12.9"
  }
 },
 "nbformat": 4,
 "nbformat_minor": 5
}
