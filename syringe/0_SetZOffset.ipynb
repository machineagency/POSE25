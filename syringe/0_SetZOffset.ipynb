{
 "cells": [
  {
   "cell_type": "markdown",
   "id": "54228733-8614-4903-b8ca-c250bf63864b",
   "metadata": {},
   "source": [
    "# Setting the Syringe Z Offset\n",
    "By default, we leave quite a bit of distance between the bed and the syringe's '0' position. This is because we can attach tips of different lengths to the syringe. To start using the syringe tool, we need to calibrate the syringe tip to the bed.\n",
    "\n",
    "### Before Starting:\n",
    "Clear any existing items off the bed of your machine!"
   ]
  },
  {
   "cell_type": "code",
   "execution_count": null,
   "id": "10271711-9d69-437b-b94f-aeda94e20850",
   "metadata": {
    "tags": []
   },
   "outputs": [],
   "source": [
    "# Import the required modules\n",
    "from science_jubilee.Machine import Machine\n",
    "from science_jubilee.tools.Tool import Tool"
   ]
  },
  {
   "cell_type": "code",
   "execution_count": null,
   "id": "1dd73566-8a78-49b4-b1d2-a877fed510e5",
   "metadata": {
    "tags": []
   },
   "outputs": [],
   "source": [
    "# Connect to the machine\n",
    "m = Machine(address='192.168.1.2')"
   ]
  },
  {
   "cell_type": "code",
   "execution_count": null,
   "id": "29b06a90",
   "metadata": {},
   "outputs": [],
   "source": [
    "# m.home_all() # if you need to, uncomment this line to home the machine"
   ]
  },
  {
   "cell_type": "markdown",
   "id": "9e08ed48-f5a9-4627-9314-3760c89a5b68",
   "metadata": {},
   "source": [
    "### Load the Syringe tool"
   ]
  },
  {
   "cell_type": "code",
   "execution_count": null,
   "id": "9ba3b0cb-c9ac-445e-ab33-f1a2dbf5c592",
   "metadata": {
    "tags": []
   },
   "outputs": [],
   "source": [
    "# To load the tool, specify the index of the tool on your machine\n",
    "# If you're not sure what your tool index is, you can query Duet about what tools are configured like this:\n",
    "m.configured_tools"
   ]
  },
  {
   "cell_type": "code",
   "execution_count": null,
   "id": "56358841-6efe-4f1c-a1cf-6c10ac45cd77",
   "metadata": {
    "tags": []
   },
   "outputs": [],
   "source": [
    "# Change the following tool_index variable to match your machine configuration, if necessary\n",
    "tool_index = 2"
   ]
  },
  {
   "cell_type": "code",
   "execution_count": null,
   "id": "cc27915a-ec86-4804-92ec-fd56feb7a3a0",
   "metadata": {
    "tags": []
   },
   "outputs": [],
   "source": [
    "# The syringe config file contains calibration data\n",
    "syringe = Tool(index = tool_index, name = 'syringe')\n",
    "m.load_tool(syringe)"
   ]
  },
  {
   "cell_type": "code",
   "execution_count": null,
   "id": "8d429162-4657-41e8-ab2a-144b7291d933",
   "metadata": {
    "tags": []
   },
   "outputs": [],
   "source": [
    "# Now you can pick up the syringe!\n",
    "m.pickup_tool(syringe)"
   ]
  },
  {
   "cell_type": "markdown",
   "id": "dbd41f10",
   "metadata": {},
   "source": [
    "## Zero the Z Position\n",
    "By default, we leave quite a bit of distance between the bed and the syringe's '0' position because we can attach tips of different lengths to the syringe. To start, we need to calibrate the syringe tip to the bed.\n",
    "\n",
    "If you're using a lab automation deck, be sure to move the syringe to a location above the aluminum bed plate (i.e. not over the deck attachment)."
   ]
  },
  {
   "cell_type": "code",
   "execution_count": null,
   "id": "dd166ff4",
   "metadata": {},
   "outputs": [],
   "source": [
    "# This cell will move the machine!\n",
    "m.move_to(x=200, y=150) # move over an empty part of the bed"
   ]
  },
  {
   "cell_type": "code",
   "execution_count": null,
   "id": "bbcb0b0d",
   "metadata": {},
   "outputs": [],
   "source": [
    "# Now, move to the syringe's starting 0 position\n",
    "m.move_to(z = 0)"
   ]
  },
  {
   "cell_type": "markdown",
   "id": "cf57683e",
   "metadata": {},
   "source": [
    "You'll see that z=0 is actually quite a ways from the bed! Now we need to bring the tip of the syringe extruder into contact with the print bed by gradually decreasing the z value. You want the tip to be just above the bed plate. Don't overshoot or you'll crash into the syringe!\n",
    "\n",
    "If you're gel printing and want to be able to take your print off the bed, be sure to put a glass plate down and calibrate to the height of the plate, instead of the height of the aluminum bed!\n",
    "\n",
    "You can use the control panel in the DuetWebControl interface to do this if you like, or run the following cell repeatedly."
   ]
  },
  {
   "cell_type": "code",
   "execution_count": null,
   "id": "075a0fac",
   "metadata": {},
   "outputs": [],
   "source": [
    "z_offset = 0            # slowly make this a bigger negative number, but don't overshoot!\n",
    "                        # you could instead use Duet Web Control to increment in Z\n",
    "m.move_to(z = z_offset)"
   ]
  },
  {
   "cell_type": "markdown",
   "id": "b9d069c6",
   "metadata": {},
   "source": [
    "We'll update the tool's z offset so that the 0 position is where you currently moved to. Note that everytime the mainboard restarts, it reads the config on the Duet board, which has the more conservative tool offset. \n",
    "\n",
    "Instead of changing the offset permanently, we'll temporarily change it until we restart the machine again. So, we should go through this process each time we add a new syringe tip."
   ]
  },
  {
   "cell_type": "code",
   "execution_count": null,
   "id": "5b61708e",
   "metadata": {},
   "outputs": [],
   "source": [
    "starting_offset = m.tool_z_offsets[m.active_tool_index] # this is the default value for this tool\n",
    "real_z_position = float(m.get_position()[\"Z\"])          # this is our current z position after calibration\n",
    "new_z_offset = starting_offset - real_z_position        # subtract the two to get the update z offset value\n",
    "\n",
    "# Update the tool offset\n",
    "m.set_tool_offset(tool_idx = m.active_tool_index, z = new_z_offset)"
   ]
  },
  {
   "cell_type": "code",
   "execution_count": null,
   "id": "b4d796c7",
   "metadata": {},
   "outputs": [],
   "source": [
    "# Now we can move on!\n",
    "m.move_to(z=100)"
   ]
  },
  {
   "cell_type": "markdown",
   "id": "8800c79d",
   "metadata": {},
   "source": [
    "Your Z position is now calibrated! This calibration will reset if you turn the machine off. If you are gel printing, it's probably a good idea to calibrate Z precisely each time you turn on the machine, since printing is very sensitive to the starting height. If you're usining the syringe for liquid handling, you can talk to a workshop organizer to set this Z offset permanently to save you some extra effort!"
   ]
  },
  {
   "cell_type": "markdown",
   "id": "a5e6e71a",
   "metadata": {},
   "source": []
  }
 ],
 "metadata": {
  "kernelspec": {
   "display_name": "POSE25-311",
   "language": "python",
   "name": "pose25-311"
  },
  "language_info": {
   "codemirror_mode": {
    "name": "ipython",
    "version": 3
   },
   "file_extension": ".py",
   "mimetype": "text/x-python",
   "name": "python",
   "nbconvert_exporter": "python",
   "pygments_lexer": "ipython3",
   "version": "3.11.9"
  }
 },
 "nbformat": 4,
 "nbformat_minor": 5
}
