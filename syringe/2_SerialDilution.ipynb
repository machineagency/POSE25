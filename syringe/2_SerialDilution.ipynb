{
 "cells": [
  {
   "cell_type": "markdown",
   "id": "85a5d29e-2269-4d63-8c89-eed9e8cb022f",
   "metadata": {
    "tags": []
   },
   "source": [
    "# Serial Dilution\n",
    "Get familiar with science-jubilee functionality using this serial dilution example notebook! We'll mix colors using a pipette tool.\n",
    "\n",
    "### Before Starting:\n",
    "Clear any existing items off the bed of your machine!\n",
    "\n",
    "### Zero the Extruder Position\n",
    "Our syringe tool doesn't have any limit switches; for liquid handling, that meens the syringe plunger should start at 0 mL when the machine starts. If your syringe is not already there, you can manually move to 0 and restart your machine. \n",
    "\n",
    "To do so, open Duet Web Control and pickup the syringe. Then, send 'extrude' commands in small increments until the plunger is at 0. Park the syringe, and restart the machine."
   ]
  },
  {
   "cell_type": "code",
   "execution_count": null,
   "id": "f664cca6-6374-4dbb-9991-60051823a967",
   "metadata": {
    "tags": []
   },
   "outputs": [],
   "source": [
    "# Import the tools we'll need!\n",
    "from science_jubilee.Machine import Machine\n",
    "from science_jubilee.tools.Syringe import Syringe\n",
    "from science_jubilee.tools.AS7341 import AS7341\n",
    "from science_jubilee.decks import Deck\n",
    "import json"
   ]
  },
  {
   "cell_type": "code",
   "execution_count": null,
   "id": "089a2e5c-12e2-4b0b-b254-73319f385905",
   "metadata": {
    "tags": []
   },
   "outputs": [],
   "source": [
    "# Connect to the machine and load our deck configuration\n",
    "m = Machine(address='192.168.1.2')\n",
    "deck = m.load_deck('POSE-calibrated-deck')"
   ]
  },
  {
   "cell_type": "code",
   "execution_count": null,
   "id": "726fde2b",
   "metadata": {},
   "outputs": [],
   "source": [
    "# m.home_all() # if you need to, uncomment this line to home the machine"
   ]
  },
  {
   "cell_type": "markdown",
   "id": "42fa6f70",
   "metadata": {},
   "source": [
    "### Zero the Z Position\n",
    "By default, we leave quite a bit of distance between the bed and the syringe's '0' position because we can attach tips of different lengths to the syringe. To start, we need to calibrate the syringe tip to the bed.\n",
    "\n",
    "If you haven't calibrated the Z position yet, **do so now using the [Set Z Offset notebook](./0_SetZOffset.ipynb)**. You need to do this each time you turn the machine on."
   ]
  },
  {
   "cell_type": "markdown",
   "id": "8ccca21b-0b3c-4b92-bbdb-f3eba1f49f5d",
   "metadata": {
    "tags": []
   },
   "source": [
    "### Set up our tools\n",
    "We'll use a syringe tool to move liquid and a lab automation deck to hold labware."
   ]
  },
  {
   "cell_type": "code",
   "execution_count": null,
   "id": "7afbe484",
   "metadata": {},
   "outputs": [],
   "source": [
    "# To load the tool, specify the index of the tool on your machine\n",
    "# If you're not sure what your tool index is, you can query Duet about what tools are configured like this:\n",
    "m.configured_tools"
   ]
  },
  {
   "cell_type": "code",
   "execution_count": null,
   "id": "77403c3e",
   "metadata": {},
   "outputs": [],
   "source": [
    "# Change the following tool_index variable to match your machine configuration, if necessary\n",
    "syringe_index = 2"
   ]
  },
  {
   "cell_type": "code",
   "execution_count": null,
   "id": "cf023e6f-1a30-4ca4-93d4-4ff0cde3e764",
   "metadata": {
    "tags": []
   },
   "outputs": [],
   "source": [
    "# The syringe config file contains calibration data\n",
    "syringe = Syringe(index = syringe_index,\n",
    "                  name = 'syringe',\n",
    "                  config = '10cc_syringe_liquidhandling'\n",
    "                 )\n",
    "m.load_tool(syringe)"
   ]
  },
  {
   "cell_type": "code",
   "execution_count": null,
   "id": "c1abd4c0-cebe-4970-961b-3d12ed986f16",
   "metadata": {
    "tags": []
   },
   "outputs": [],
   "source": [
    "# Pick up the syringe!\n",
    "m.pickup_tool(syringe)\n",
    "\n",
    "# Drop the bed down so we have room to load our labware\n",
    "m.move_to(z=150)"
   ]
  },
  {
   "cell_type": "markdown",
   "id": "420805e3-f43c-4d38-b156-4e41c0cdecbe",
   "metadata": {},
   "source": [
    "### Load our labware!\n",
    "We'll use petri dishes to hold our liquid, and a 24-well plate to mix colors. Feel free to set this up without any liquid to do a 'dry run' if you'd prefer.\n",
    "\n",
    "In particular, we will put:\n",
    "- a petri dish filled with water into slot 0\n",
    "- a 24 well plate into slot 1\n",
    "- a petri dish filled with colored water into slot 2"
   ]
  },
  {
   "cell_type": "code",
   "execution_count": null,
   "id": "0b52e23b-cfda-49f1-b59a-808077925e2b",
   "metadata": {
    "tags": []
   },
   "outputs": [],
   "source": [
    "# We put our liquid reservoirs into slot 0 and 2 of the machine\n",
    "water = m.load_labware(\"generic_petri_dish_100ml\", 0)\n",
    "color = m.load_labware(\"generic_petri_dish_100ml\", 2)\n",
    "\n",
    "# There's only 1 \"well\" in a petri dish! So we'll access them directly for convenience.\n",
    "water = water[\"A1\"]\n",
    "color = color[\"A1\"]\n",
    "\n",
    "# We put our 24 well plate into slot 1 of the machine\n",
    "samples = m.load_labware(\"greiner_24_wellplate_3300ul\", 1)"
   ]
  },
  {
   "cell_type": "markdown",
   "id": "d35bdb1f",
   "metadata": {},
   "source": [
    "Now, you should **physically** install the labware into the machine. Be sure to double check that you put the slots that you put each into!"
   ]
  },
  {
   "cell_type": "markdown",
   "id": "dab212c6-73b4-4298-a23b-f3752b9430d8",
   "metadata": {},
   "source": [
    "### 3. Set up the sample plate\n",
    "The following cells will:\n",
    "- move water into all wells of the 24 well plate\n",
    "- move colored water into the first column\n",
    "\n"
   ]
  },
  {
   "cell_type": "code",
   "execution_count": null,
   "id": "cb66ae8c-0a7c-4d00-82d0-b684b7ed0f33",
   "metadata": {
    "tags": []
   },
   "outputs": [],
   "source": [
    "# Put decreasing amount of water into first column\n",
    "fill_volume = 2  # value in mL\n",
    "step_size = 0.5\n",
    "for well in samples.column_data[1]:\n",
    "    syringe.transfer(\n",
    "        vol = fill_volume,\n",
    "        source = water,\n",
    "        destination = well)\n",
    "    fill_volume -= step_size"
   ]
  },
  {
   "cell_type": "code",
   "execution_count": null,
   "id": "03e5bea2-59a6-4674-a60a-b3eb095987a8",
   "metadata": {
    "tags": []
   },
   "outputs": [],
   "source": [
    "# Add water to all other wells\n",
    "fill_volume = 1.5  # value in mL\n",
    "for column in range(2, len(samples.column_data)+1):\n",
    "    syringe.transfer(\n",
    "        vol = fill_volume,\n",
    "        source = water,\n",
    "        destination = list(samples.column_data[column])\n",
    "        )"
   ]
  },
  {
   "cell_type": "code",
   "execution_count": null,
   "id": "2ceca5ce-bf63-4ab9-906a-109b76a50839",
   "metadata": {
    "tags": []
   },
   "outputs": [],
   "source": [
    "# Add increasing amount of colored water to the first column\n",
    "fill_volume = 0.5\n",
    "for well in samples.column_data[1]:\n",
    "    syringe.transfer(\n",
    "        vol = fill_volume,\n",
    "        source = color,\n",
    "        destination = well,\n",
    "        mix_after=(1,2)\n",
    "    )\n",
    "    fill_volume += step_size"
   ]
  },
  {
   "cell_type": "markdown",
   "id": "af13fa5c-9344-43c0-a321-58baa772d538",
   "metadata": {},
   "source": [
    "## Run Serial Dilution!\n",
    "The following cell will transfer and mix samples down each column of the well plate"
   ]
  },
  {
   "cell_type": "code",
   "execution_count": null,
   "id": "7c5dea63-e2a8-42ec-9c75-215bdddb53d0",
   "metadata": {
    "tags": []
   },
   "outputs": [],
   "source": [
    "transfer_volume = 1.5\n",
    "for row in samples.row_data:\n",
    "    for column in range(1, len(samples.column_data)):\n",
    "        syringe.transfer(\n",
    "            vol = transfer_volume,\n",
    "            source = samples.wells[f\"{row}{column}\"],\n",
    "            destination = samples.wells[f\"{row}{column+1}\"],\n",
    "            mix_after = (1, 2)\n",
    "        )"
   ]
  }
 ],
 "metadata": {
  "kernelspec": {
   "display_name": "POSE25-311",
   "language": "python",
   "name": "pose25-311"
  },
  "language_info": {
   "codemirror_mode": {
    "name": "ipython",
    "version": 3
   },
   "file_extension": ".py",
   "mimetype": "text/x-python",
   "name": "python",
   "nbconvert_exporter": "python",
   "pygments_lexer": "ipython3",
   "version": "3.11.9"
  }
 },
 "nbformat": 4,
 "nbformat_minor": 5
}
