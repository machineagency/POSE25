{
 "cells": [
  {
   "cell_type": "markdown",
   "id": "dc8c0745-1345-4257-896b-844d03fa7456",
   "metadata": {},
   "source": [
    "# Jogging the Machine!\n",
    "This example notebook will help you move Jubilee around. \n",
    "\n",
    "### Before Starting:\n",
    "Clear any existing items off the bed of your Jubilee!"
   ]
  },
  {
   "cell_type": "code",
   "execution_count": 1,
   "id": "7731885e-8dc5-4c7e-a43c-685f6c8d5613",
   "metadata": {
    "tags": []
   },
   "outputs": [
    {
     "name": "stderr",
     "output_type": "stream",
     "text": [
      "/Users/blairsubbaraman/research/2025POSEWorkshop/science-jubilee/.venv/lib/python3.8/site-packages/urllib3/__init__.py:35: NotOpenSSLWarning: urllib3 v2 only supports OpenSSL 1.1.1+, currently the 'ssl' module is compiled with 'LibreSSL 2.8.3'. See: https://github.com/urllib3/urllib3/issues/3020\n",
      "  warnings.warn(\n"
     ]
    }
   ],
   "source": [
    "# Import the machine module\n",
    "from science_jubilee.Machine import Machine"
   ]
  },
  {
   "cell_type": "code",
   "execution_count": 3,
   "id": "0a48dcb8-04f9-429c-ba52-70ed745e8377",
   "metadata": {
    "tags": []
   },
   "outputs": [
    {
     "name": "stdout",
     "output_type": "stream",
     "text": [
      "Warning: disconnecting this application from the network will halt connection to Jubilee.\n"
     ]
    }
   ],
   "source": [
    "# Connect to the machine\n",
    "m = Machine(address=\"localhost\")"
   ]
  },
  {
   "cell_type": "markdown",
   "id": "9174dbfc-a106-4d7c-bdb1-d2c62fc24ef3",
   "metadata": {},
   "source": [
    "### Absolute moves with move_to\n",
    "To move to an absolute position, use the move_to command!"
   ]
  },
  {
   "cell_type": "code",
   "execution_count": 4,
   "id": "67bbe9d4-0642-4b43-ae29-bc8351903ca8",
   "metadata": {
    "tags": []
   },
   "outputs": [
    {
     "ename": "MachineStateError",
     "evalue": "Error: machine must first be homed.",
     "output_type": "error",
     "traceback": [
      "\u001b[0;31m---------------------------------------------------------------------------\u001b[0m",
      "\u001b[0;31mMachineStateError\u001b[0m                         Traceback (most recent call last)",
      "Cell \u001b[0;32mIn[4], line 2\u001b[0m\n\u001b[1;32m      1\u001b[0m \u001b[38;5;66;03m# Drop the bed down\u001b[39;00m\n\u001b[0;32m----> 2\u001b[0m \u001b[43mm\u001b[49m\u001b[38;5;241;43m.\u001b[39;49m\u001b[43mmove_to\u001b[49m\u001b[43m(\u001b[49m\u001b[43mz\u001b[49m\u001b[38;5;241;43m=\u001b[39;49m\u001b[38;5;241;43m150\u001b[39;49m\u001b[43m)\u001b[49m\n",
      "File \u001b[0;32m~/research/2025POSEWorkshop/science-jubilee/src/science_jubilee/Machine.py:809\u001b[0m, in \u001b[0;36mMachine.move_to\u001b[0;34m(self, x, y, z, e, v, s, param, wait)\u001b[0m\n\u001b[1;32m    791\u001b[0m \u001b[38;5;250m\u001b[39m\u001b[38;5;124;03m\"\"\"Move to an absolute X/Y/Z/E/V position.\u001b[39;00m\n\u001b[1;32m    792\u001b[0m \n\u001b[1;32m    793\u001b[0m \u001b[38;5;124;03m:param x: x position on the bed, in whatever units have been set (default mm)\u001b[39;00m\n\u001b[0;32m   (...)\u001b[0m\n\u001b[1;32m    805\u001b[0m \n\u001b[1;32m    806\u001b[0m \u001b[38;5;124;03m\"\"\"\u001b[39;00m\n\u001b[1;32m    807\u001b[0m \u001b[38;5;28mself\u001b[39m\u001b[38;5;241m.\u001b[39m_set_absolute_positioning()\n\u001b[0;32m--> 809\u001b[0m \u001b[38;5;28;43mself\u001b[39;49m\u001b[38;5;241;43m.\u001b[39;49m\u001b[43m_move_xyzev\u001b[49m\u001b[43m(\u001b[49m\u001b[43mx\u001b[49m\u001b[38;5;241;43m=\u001b[39;49m\u001b[43mx\u001b[49m\u001b[43m,\u001b[49m\u001b[43m \u001b[49m\u001b[43my\u001b[49m\u001b[38;5;241;43m=\u001b[39;49m\u001b[43my\u001b[49m\u001b[43m,\u001b[49m\u001b[43m \u001b[49m\u001b[43mz\u001b[49m\u001b[38;5;241;43m=\u001b[39;49m\u001b[43mz\u001b[49m\u001b[43m,\u001b[49m\u001b[43m \u001b[49m\u001b[43me\u001b[49m\u001b[38;5;241;43m=\u001b[39;49m\u001b[43me\u001b[49m\u001b[43m,\u001b[49m\u001b[43m \u001b[49m\u001b[43mv\u001b[49m\u001b[38;5;241;43m=\u001b[39;49m\u001b[43mv\u001b[49m\u001b[43m,\u001b[49m\u001b[43m \u001b[49m\u001b[43ms\u001b[49m\u001b[38;5;241;43m=\u001b[39;49m\u001b[43ms\u001b[49m\u001b[43m,\u001b[49m\u001b[43m \u001b[49m\u001b[43mparam\u001b[49m\u001b[38;5;241;43m=\u001b[39;49m\u001b[43mparam\u001b[49m\u001b[43m,\u001b[49m\u001b[43m \u001b[49m\u001b[43mwait\u001b[49m\u001b[38;5;241;43m=\u001b[39;49m\u001b[43mwait\u001b[49m\u001b[43m)\u001b[49m\n",
      "File \u001b[0;32m~/research/2025POSEWorkshop/science-jubilee/src/science_jubilee/Machine.py:63\u001b[0m, in \u001b[0;36mmachine_homed.<locals>.homing_check\u001b[0;34m(self, *args, **kwds)\u001b[0m\n\u001b[1;32m     61\u001b[0m \u001b[38;5;28mself\u001b[39m\u001b[38;5;241m.\u001b[39maxes_homed \u001b[38;5;241m=\u001b[39m json\u001b[38;5;241m.\u001b[39mloads(\u001b[38;5;28mself\u001b[39m\u001b[38;5;241m.\u001b[39mgcode(\u001b[38;5;124m'\u001b[39m\u001b[38;5;124mM409 K\u001b[39m\u001b[38;5;124m\"\u001b[39m\u001b[38;5;124mmove.axes[].homed\u001b[39m\u001b[38;5;124m\"\u001b[39m\u001b[38;5;124m'\u001b[39m))[\u001b[38;5;124m\"\u001b[39m\u001b[38;5;124mresult\u001b[39m\u001b[38;5;124m\"\u001b[39m]\n\u001b[1;32m     62\u001b[0m \u001b[38;5;28;01mif\u001b[39;00m \u001b[38;5;129;01mnot\u001b[39;00m \u001b[38;5;28mall\u001b[39m(\u001b[38;5;28mself\u001b[39m\u001b[38;5;241m.\u001b[39maxes_homed):\n\u001b[0;32m---> 63\u001b[0m     \u001b[38;5;28;01mraise\u001b[39;00m MachineStateError(\u001b[38;5;124m\"\u001b[39m\u001b[38;5;124mError: machine must first be homed.\u001b[39m\u001b[38;5;124m\"\u001b[39m)\n\u001b[1;32m     64\u001b[0m \u001b[38;5;28;01mreturn\u001b[39;00m func(\u001b[38;5;28mself\u001b[39m, \u001b[38;5;241m*\u001b[39margs, \u001b[38;5;241m*\u001b[39m\u001b[38;5;241m*\u001b[39mkwds)\n",
      "\u001b[0;31mMachineStateError\u001b[0m: Error: machine must first be homed."
     ]
    }
   ],
   "source": [
    "# Drop the bed down\n",
    "m.move_to(z=150)"
   ]
  },
  {
   "cell_type": "code",
   "execution_count": null,
   "id": "4d07bccb-08d3-4fcc-8e53-0b672a153880",
   "metadata": {
    "tags": []
   },
   "outputs": [],
   "source": [
    "# Move in X\n",
    "m.move_to(x=100)"
   ]
  },
  {
   "cell_type": "code",
   "execution_count": null,
   "id": "6c1ce6d8-f719-4dae-b97b-8acbdc776124",
   "metadata": {
    "tags": []
   },
   "outputs": [],
   "source": [
    "# Move in Y\n",
    "m.move_to(y=200)"
   ]
  },
  {
   "cell_type": "code",
   "execution_count": null,
   "id": "cc2f53d7-c6e7-4454-bf26-0284e1548b91",
   "metadata": {
    "tags": []
   },
   "outputs": [],
   "source": [
    "# Specify a speed with the s parameter\n",
    "# Units are in mm/min!\n",
    "\n",
    "# Move in X slowly at 500 mm/min\n",
    "m.move_to(x = 200, s = 500)"
   ]
  },
  {
   "cell_type": "code",
   "execution_count": null,
   "id": "c246f57c-f2f7-46cb-bbc0-6f446bc255e4",
   "metadata": {
    "tags": []
   },
   "outputs": [],
   "source": [
    "# mm/min are a funny unit, we can specify speeds in mm/sec with the following function\n",
    "def mm_sec(speed):\n",
    "    # Converts a speed in mm/sec to mm/min to be used by the machine\n",
    "    return speed * 60.0"
   ]
  },
  {
   "cell_type": "code",
   "execution_count": null,
   "id": "4674305e-2800-4d12-a9a9-3d1eab654b5f",
   "metadata": {
    "tags": []
   },
   "outputs": [],
   "source": [
    "# Move in X and Y quickly at 150 mm/sec\n",
    "m.move_to(x = 100, y = 100, s = mm_sec(150))"
   ]
  },
  {
   "cell_type": "markdown",
   "id": "15b1c5b7-6605-4c61-ba47-720e6b7537c1",
   "metadata": {},
   "source": [
    "### Relative moves with move\n",
    "To move relative to the current position, use the move command!"
   ]
  },
  {
   "cell_type": "code",
   "execution_count": null,
   "id": "64a8251a-438f-414b-b76d-6baaa2e6597a",
   "metadata": {
    "tags": []
   },
   "outputs": [],
   "source": [
    "# Increment X by 10 mm\n",
    "m.move(dx = 5)"
   ]
  },
  {
   "cell_type": "code",
   "execution_count": null,
   "id": "6a0f72ff-5cbb-4a23-b569-48ba6277dfa9",
   "metadata": {
    "tags": []
   },
   "outputs": [],
   "source": [
    "# Increment Z by -10\n",
    "m.move(dz = -10)"
   ]
  },
  {
   "cell_type": "code",
   "execution_count": null,
   "id": "dfb5c5f0-8d02-478f-b7e4-daf7fbd11693",
   "metadata": {
    "tags": []
   },
   "outputs": [],
   "source": [
    "# Move slowly in X, Y, and Z\n",
    "m.move(dx = 5, dy = 5, dz = 5, s = mm_sec(10))"
   ]
  },
  {
   "cell_type": "code",
   "execution_count": null,
   "id": "799962de-bf11-4ff0-a310-d3ff081b2a76",
   "metadata": {
    "tags": []
   },
   "outputs": [],
   "source": [
    "# Check where we've ended up with get_position\n",
    "# get_position returns a dictionary with the position of each axis of the machine\n",
    "m.get_position()"
   ]
  }
 ],
 "metadata": {
  "kernelspec": {
   "display_name": "POSE25",
   "language": "python",
   "name": "pose25"
  },
  "language_info": {
   "codemirror_mode": {
    "name": "ipython",
    "version": 3
   },
   "file_extension": ".py",
   "mimetype": "text/x-python",
   "name": "python",
   "nbconvert_exporter": "python",
   "pygments_lexer": "ipython3",
   "version": "3.8.9"
  }
 },
 "nbformat": 4,
 "nbformat_minor": 5
}
