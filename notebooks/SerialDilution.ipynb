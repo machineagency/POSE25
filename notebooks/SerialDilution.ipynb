{
 "cells": [
  {
   "cell_type": "markdown",
   "id": "85a5d29e-2269-4d63-8c89-eed9e8cb022f",
   "metadata": {
    "tags": []
   },
   "source": [
    "## Serial Dilution\n",
    "Get familiar with science-jubilee functionality using this 2D serial dilution example notebook! We'll mix colors using a syringe tool and measure some optical properties of the colors we mix. "
   ]
  },
  {
   "cell_type": "code",
   "execution_count": 1,
   "id": "f664cca6-6374-4dbb-9991-60051823a967",
   "metadata": {
    "tags": []
   },
   "outputs": [],
   "source": [
    "# Import the tools we'll need!\n",
    "from science_jubilee.Machine import Machine\n",
    "from science_jubilee.tools.Syringe import Syringe\n",
    "from science_jubilee.tools.AS7341 import AS7341\n",
    "from science_jubilee.decks import Deck\n",
    "import json"
   ]
  },
  {
   "cell_type": "code",
   "execution_count": 2,
   "id": "089a2e5c-12e2-4b0b-b254-73319f385905",
   "metadata": {
    "tags": []
   },
   "outputs": [
    {
     "name": "stdout",
     "output_type": "stream",
     "text": [
      "Warning: disconnecting this application from the network will halt connection to Jubilee.\n"
     ]
    }
   ],
   "source": [
    "# Connect to the machine\n",
    "m = Machine(address='localhost')"
   ]
  },
  {
   "cell_type": "markdown",
   "id": "8ccca21b-0b3c-4b92-bbdb-f3eba1f49f5d",
   "metadata": {
    "tags": []
   },
   "source": [
    "### 1. Set up our tools\n",
    "We'll use a syringe tool to move liquid and a lab automation deck to hold labware "
   ]
  },
  {
   "cell_type": "code",
   "execution_count": 3,
   "id": "cf023e6f-1a30-4ca4-93d4-4ff0cde3e764",
   "metadata": {
    "tags": []
   },
   "outputs": [],
   "source": [
    "# The syringe is tool 0 on the machine\n",
    "syringe = Syringe(index = 0, name = 'syringe1', config = '10cc_syringe')\n",
    "spec = AS7341(index = 2, name = \"AS7341 spectral sensor\", config = \"AS7341\")\n",
    "m.load_tool(syringe)\n",
    "m.load_tool(spec)\n",
    "\n",
    "# We use a lab automation deck to hold labware \n",
    "deck = m.load_deck('lab_automation_deck')"
   ]
  },
  {
   "cell_type": "code",
   "execution_count": null,
   "id": "c1abd4c0-cebe-4970-961b-3d12ed986f16",
   "metadata": {
    "tags": []
   },
   "outputs": [],
   "source": [
    "# Pick up the syringe!\n",
    "m.pickup_tool(syringe)\n",
    "\n",
    "# Drop the bed down so we have room to load our labware\n",
    "m.move_to(z=150)"
   ]
  },
  {
   "cell_type": "code",
   "execution_count": 4,
   "id": "dedde4f9-590e-4b34-8ef0-7de96d1065c6",
   "metadata": {
    "tags": []
   },
   "outputs": [],
   "source": [
    "# pick up the spectral sensor tool!\n",
    "m.pickup_tool(spec)\n",
    "\n",
    "# sensors are controlled by and communicated via nodes! and nodes need to be connected to the pi first ->\n",
    "spec.connect_seeed() \n",
    "# we only have one node now so there is no need for an index \n",
    "# but we will probably get to multiple sensors later\n",
    "\n",
    "# blink the connected node! the argument in the blink function is the duration of blinking in second\n",
    "spec.blink(\"1\")"
   ]
  },
  {
   "cell_type": "code",
   "execution_count": null,
   "id": "30aae3c4-6ba7-4841-a0c5-272d935b5a9c",
   "metadata": {
    "tags": []
   },
   "outputs": [],
   "source": [
    "# yay it blinks! now let's take a measurement\n",
    "# the argument is the current of the LEDs surrounding the spectral sensor\n",
    "# range: 0 - 40 mA\n",
    "spec.measure_spectrum(3)"
   ]
  },
  {
   "cell_type": "markdown",
   "id": "420805e3-f43c-4d38-b156-4e41c0cdecbe",
   "metadata": {},
   "source": [
    "### 2. Load our labware!\n",
    "We'll use petri dishes to hold our liquids, and a 24-well plate to mix colors. Now, you should add:\n",
    "- a petri dish filled with water into slot 0\n",
    "- a 24 well plate into slot 1\n",
    "- a petri dish filled with colored water into slot 1\n",
    "\n",
    "Once you've inserted these into the machine, run the following cells."
   ]
  },
  {
   "cell_type": "code",
   "execution_count": 5,
   "id": "0b52e23b-cfda-49f1-b59a-808077925e2b",
   "metadata": {
    "tags": []
   },
   "outputs": [],
   "source": [
    "# We put our liquid reservoirs into slot 0 and 2 of the machine\n",
    "water = m.load_labware(\"generic_petri_dish_100ml\", 0)\n",
    "color = m.load_labware(\"generic_petri_dish_100ml\", 2)\n",
    "\n",
    "# There's only 1 \"well\" in a petri dish!\n",
    "water = water[\"A1\"]\n",
    "color = color[\"A1\"]\n",
    "\n",
    "# We put our 24 well plate into slot 1 of the machine\n",
    "samples = m.load_labware(\"greiner_24_wellplate_3300ul\", 1)"
   ]
  },
  {
   "cell_type": "code",
   "execution_count": 6,
   "id": "6ddac6de-af77-464b-bcca-527bd5ebc2a6",
   "metadata": {
    "tags": []
   },
   "outputs": [],
   "source": [
    "# Pozzo group changed the Labware class props to not refer to the Wells?\n",
    "# I'm gathering them manually here and will ask if I can change back\n",
    "all_wells = [samples.wells[id] for id in samples.wells]\n",
    "\n",
    "rows = {}\n",
    "columns = {}\n",
    "for row in samples.row_data:\n",
    "    rows[row] = []\n",
    "    for well_id in samples.row_data[row]:\n",
    "        rows[row].append(well_id)\n",
    "\n",
    "for column in samples.column_data:\n",
    "    columns[column] = []\n",
    "    for well_id in samples.column_data[column]:\n",
    "        columns[column].append(well_id)"
   ]
  },
  {
   "cell_type": "markdown",
   "id": "dab212c6-73b4-4298-a23b-f3752b9430d8",
   "metadata": {},
   "source": [
    "### 3. Set up the sample plate\n",
    "The following cells will:\n",
    "- move water into all wells of the 24 well plate\n",
    "- move colored water into the first column\n",
    "\n"
   ]
  },
  {
   "cell_type": "code",
   "execution_count": null,
   "id": "cb66ae8c-0a7c-4d00-82d0-b684b7ed0f33",
   "metadata": {
    "tags": []
   },
   "outputs": [],
   "source": [
    "# Put decreasing amount of water into first column\n",
    "fill_volume = 2\n",
    "step_size = 0.5\n",
    "for well in columns[1]:\n",
    "    syringe.transfer(vol = fill_volume, source = water, destination = well)\n",
    "    fill_volume -= step_size"
   ]
  },
  {
   "cell_type": "code",
   "execution_count": null,
   "id": "03e5bea2-59a6-4674-a60a-b3eb095987a8",
   "metadata": {
    "tags": []
   },
   "outputs": [],
   "source": [
    "# Add water to all other wells\n",
    "for column in range(2, len(samples.column_data)+1):\n",
    "    syringe.transfer(vol = 1.5, source = water, destination = columns[column])"
   ]
  },
  {
   "cell_type": "code",
   "execution_count": null,
   "id": "2ceca5ce-bf63-4ab9-906a-109b76a50839",
   "metadata": {
    "tags": []
   },
   "outputs": [],
   "source": [
    "# Add increasing amount of colored water to the first column\n",
    "fill_volume = 0.5\n",
    "for well in columns[1]:\n",
    "    syringe.transfer(\n",
    "        vol = fill_volume,\n",
    "        source = color,\n",
    "        destination = well,\n",
    "        mix_after=(1,2)\n",
    "    )\n",
    "    fill_volume += step_size"
   ]
  },
  {
   "cell_type": "markdown",
   "id": "af13fa5c-9344-43c0-a321-58baa772d538",
   "metadata": {},
   "source": [
    "if neededif needed### Run Serial Dilution!\n",
    "The following cell will transfer and mix samples down each column of the well plate"
   ]
  },
  {
   "cell_type": "code",
   "execution_count": null,
   "id": "7c5dea63-e2a8-42ec-9c75-215bdddb53d0",
   "metadata": {
    "tags": []
   },
   "outputs": [],
   "source": [
    "for row in rows:\n",
    "    for column in range(1, len(samples.column_data)):\n",
    "        syringe.transfer(\n",
    "            vol = 1.5,\n",
    "            source = samples.wells[f\"{row}{column}\"],\n",
    "            destination = samples.wells[f\"{row}{column+1}\"],\n",
    "            mix_after = (1, 2)\n",
    "        )\n",
    "        # Can add code to switch tools and measure something here!"
   ]
  },
  {
   "cell_type": "markdown",
   "id": "31d99c87-1d53-469b-a623-a65f9585cc38",
   "metadata": {},
   "source": [
    "### Measure Redness!"
   ]
  },
  {
   "cell_type": "code",
   "execution_count": null,
   "id": "643839c9-0314-4a70-9397-d153f900efa2",
   "metadata": {},
   "outputs": [],
   "source": [
    "# Pickup tool!\n",
    "m.pickup_tool(spec)"
   ]
  },
  {
   "cell_type": "code",
   "execution_count": 7,
   "id": "6128e505-0bd8-4b6c-ada3-f3ed669d11ef",
   "metadata": {
    "tags": []
   },
   "outputs": [],
   "source": [
    "m.move_to(z=-15);"
   ]
  },
  {
   "cell_type": "code",
   "execution_count": 8,
   "id": "7670978b-2aa5-4c4a-bab1-7622ad4a5121",
   "metadata": {
    "tags": []
   },
   "outputs": [
    {
     "name": "stdout",
     "output_type": "stream",
     "text": [
      "{'well id': 'A1', 'spectral measurements': \"{'445': 16916, '480': 13391, '555': 32229, '590': 33343, '515': 15763, '415': 3903, '630': 33139, '680': 15727}\"}\n",
      "{'well id': 'A2', 'spectral measurements': \"{'445': 16772, '480': 13326, '555': 31853, '590': 33546, '515': 15615, '415': 3909, '630': 33417, '680': 15789}\"}\n",
      "{'well id': 'A3', 'spectral measurements': \"{'445': 17809, '480': 13788, '555': 33656, '590': 34959, '515': 16766, '415': 4100, '630': 33885, '680': 15958}\"}\n",
      "{'well id': 'A4', 'spectral measurements': \"{'445': 18987, '480': 14305, '555': 35792, '590': 36107, '515': 18253, '415': 4291, '630': 34220, '680': 16070}\"}\n",
      "{'well id': 'A5', 'spectral measurements': \"{'445': 19650, '480': 14603, '555': 37060, '590': 36563, '515': 19185, '415': 4393, '630': 34208, '680': 16085}\"}\n",
      "{'well id': 'B1', 'spectral measurements': \"{'445': 16212, '480': 13103, '555': 31056, '590': 31842, '515': 15128, '415': 3759, '630': 32440, '680': 15531}\"}\n",
      "{'well id': 'B2', 'spectral measurements': \"{'445': 16049, '480': 13004, '555': 30580, '590': 31984, '515': 14925, '415': 3760, '630': 32624, '680': 15574}\"}\n",
      "{'well id': 'B3', 'spectral measurements': \"{'445': 16965, '480': 13381, '555': 31989, '590': 33683, '515': 15751, '415': 3940, '630': 33379, '680': 15800}\"}\n",
      "{'well id': 'B4', 'spectral measurements': \"{'445': 18211, '480': 13919, '555': 34156, '590': 35253, '515': 17187, '415': 4152, '630': 33930, '680': 16002}\"}\n",
      "{'well id': 'B5', 'spectral measurements': \"{'445': 19403, '480': 14429, '555': 36325, '590': 36559, '515': 18690, '415': 4354, '630': 34472, '680': 16254}\"}\n",
      "{'well id': 'C1', 'spectral measurements': \"{'445': 15986, '480': 13004, '555': 30713, '590': 30850, '515': 14971, '415': 3694, '630': 31670, '680': 15292}\"}\n",
      "{'well id': 'C2', 'spectral measurements': \"{'445': 15696, '480': 12865, '555': 30072, '590': 31010, '515': 14663, '415': 3681, '630': 32024, '680': 15379}\"}\n",
      "{'well id': 'C3', 'spectral measurements': \"{'445': 16381, '480': 13152, '555': 31097, '590': 32743, '515': 15223, '415': 3825, '630': 33049, '680': 15682}\"}\n",
      "{'well id': 'C4', 'spectral measurements': \"{'445': 17517, '480': 13636, '555': 32908, '590': 34558, '515': 16344, '415': 4042, '630': 33858, '680': 15977}\"}\n",
      "{'well id': 'C5', 'spectral measurements': \"{'445': 18855, '480': 14156, '555': 35063, '590': 36054, '515': 17851, '415': 4268, '630': 34438, '680': 16230}\"}\n",
      "{'well id': 'D1', 'spectral measurements': \"{'445': 16452, '480': 13287, '555': 31776, '590': 31397, '515': 15484, '415': 3751, '630': 31793, '680': 15326}\"}\n",
      "{'well id': 'D2', 'spectral measurements': \"{'445': 16206, '480': 13162, '555': 31184, '590': 31426, '515': 15214, '415': 3729, '630': 31899, '680': 15342}\"}\n",
      "{'well id': 'D3', 'spectral measurements': \"{'445': 16504, '480': 13289, '555': 31576, '590': 32585, '515': 15390, '415': 3809, '630': 32666, '680': 15593}\"}\n",
      "{'well id': 'D4', 'spectral measurements': \"{'445': 17363, '480': 13647, '555': 32965, '590': 34247, '515': 16187, '415': 3982, '630': 33499, '680': 15844}\"}\n",
      "{'well id': 'D5', 'spectral measurements': \"{'445': 18509, '480': 14085, '555': 34711, '590': 35510, '515': 17433, '415': 4175, '630': 33972, '680': 16061}\"}\n"
     ]
    }
   ],
   "source": [
    "measurements = []\n",
    "for row in rows:\n",
    "    for column in range(1, len(samples.column_data)):\n",
    "        well = samples.wells[f\"{row}{column}\"]\n",
    "        m.move_to(x=well.x, y=well.y);\n",
    "        measure = {\n",
    "            'well id' : f\"{row}{column}\",\n",
    "            'spectral measurements' : spec.measure_spectrum(3)\n",
    "        }\n",
    "        measurements.append(measure)\n",
    "        print(measure)\n",
    "\n",
    "# write to json\n",
    "wellplate_results = json.dumps(measurements, indent = 4)\n",
    "with open('wellplate_spectral_measurements.json', 'w') as f:\n",
    "    f.write(wellplate_results)"
   ]
  },
  {
   "cell_type": "markdown",
   "id": "d2cc8432-1502-42b9-a7c1-22fdcb52eb4f",
   "metadata": {},
   "source": [
    "#### Visualize Stuff"
   ]
  },
  {
   "cell_type": "code",
   "execution_count": 9,
   "id": "d45888ad-2334-4496-96f0-6a4d96b66bed",
   "metadata": {
    "tags": []
   },
   "outputs": [
    {
     "data": {
      "image/png": "[encoded data removed]",
      "text/plain": [
       "<Figure size 1200x1000 with 2 Axes>"
      ]
     },
     "metadata": {},
     "output_type": "display_data"
    }
   ],
   "source": [
    "import numpy as np\n",
    "import matplotlib.pyplot as plt\n",
    "import json\n",
    "import seaborn as sns\n",
    "import re\n",
    "\n",
    "\n",
    "# Function to parse dictionary string without using ast\n",
    "def parse_dict_string(dict_str):\n",
    "    # Replace single quotes with double quotes for JSON parsing\n",
    "    json_str = dict_str.replace(\"'\", \"\\\"\")\n",
    "    try:\n",
    "        # Try parsing as JSON\n",
    "        return json.loads(json_str)\n",
    "    except json.JSONDecodeError:\n",
    "        # Fallback method: manual parsing using regex\n",
    "        result = {}\n",
    "        # Find all key-value pairs\n",
    "        pattern = r\"'([^']+)':\\s*(\\d+)\"\n",
    "        matches = re.findall(pattern, dict_str)\n",
    "        for key, value in matches:\n",
    "            result[key] = int(value)\n",
    "        return result\n",
    "\n",
    "# Extract row and column information and organize data\n",
    "data_by_position = {}\n",
    "rows = set()\n",
    "cols = set()\n",
    "\n",
    "for item in measurements:\n",
    "    well_id = item['well id']\n",
    "    row = well_id[0]  # e.g., 'A' from 'A1'\n",
    "    col = int(well_id[1:])  # e.g., 1 from 'A1'\n",
    "    \n",
    "    # Parse the spectral measurements\n",
    "    spectral_data = parse_dict_string(item['spectral measurements'])\n",
    "    \n",
    "    # Store by position\n",
    "    data_by_position[well_id] = spectral_data\n",
    "    \n",
    "    # Track unique rows and columns\n",
    "    rows.add(row)\n",
    "    cols.add(col)\n",
    "\n",
    "# Sort rows and columns\n",
    "rows = sorted(list(rows))\n",
    "cols = sorted(list(cols))\n",
    "\n",
    "# Create a grid for the '630' value (closest to the requested '620')\n",
    "grid_data = np.zeros((len(rows), len(cols)))\n",
    "\n",
    "# Fill the grid with '630' values\n",
    "for i, row in enumerate(rows):\n",
    "    for j, col in enumerate(cols):\n",
    "        well_id = f\"{row}{col}\"\n",
    "        if well_id in data_by_position:\n",
    "            # Use '630' value \n",
    "            grid_data[i, j] = data_by_position[well_id].get('630', 0)\n",
    "\n",
    "# Normalize the data to range 0-1 for color mapping\n",
    "max_value = np.max(grid_data)\n",
    "min_value = np.min(grid_data[grid_data > 0])  # Ignore zeros for better contrast\n",
    "normalized_grid = (grid_data - min_value) / (max_value - min_value)\n",
    "normalized_grid[grid_data == 0] = 0  # Keep zeros as zeros\n",
    "\n",
    "# Create the heatmap visualization\n",
    "plt.figure(figsize=(12, 10))\n",
    "ax = sns.heatmap(normalized_grid, \n",
    "                annot=grid_data.astype(int),  # Show the original values as annotations\n",
    "                fmt=\"d\",                     # Format as integers\n",
    "                cmap=\"Reds\",                 # Red colormap\n",
    "                cbar_kws={'label': '630nm Intensity (normalized)'},\n",
    "                linewidths=1,\n",
    "                linecolor='black')\n",
    "\n",
    "# Set custom tick labels for rows and columns\n",
    "plt.yticks(np.arange(len(rows)) + 0.5, rows)\n",
    "plt.xticks(np.arange(len(cols)) + 0.5, cols)\n",
    "\n",
    "plt.title('AS7341 Sensor Data - 630nm Channel Intensity')\n",
    "plt.xlabel('Column')\n",
    "plt.ylabel('Row')\n",
    "\n",
    "plt.tight_layout()\n",
    "plt.show()\n"
   ]
  },
  {
   "cell_type": "code",
   "execution_count": 10,
   "id": "fd32378c-a753-4d93-b5ce-855ba10d88b2",
   "metadata": {},
   "outputs": [],
   "source": [
    "# Misc.\n",
    "# Dropoff tool!\n",
    "m.park_tool()"
   ]
  },
  {
   "cell_type": "code",
   "execution_count": null,
   "id": "f3fa1b04-976c-4046-9648-4469c1a73f7b",
   "metadata": {},
   "outputs": [],
   "source": [
    "# water transfer to all wells\n",
    "# syringe.transfer(vol = 1, source = water, destination = all_wells)\n",
    "\n",
    "# test single transfer\n",
    "# syringe.transfer(vol = 1, source = water, destination = sample_well)"
   ]
  }
 ],
 "metadata": {
  "kernelspec": {
   "display_name": "pose-prep-25",
   "language": "python",
   "name": "pose-prep-25"
  },
  "language_info": {
   "codemirror_mode": {
    "name": "ipython",
    "version": 3
   },
   "file_extension": ".py",
   "mimetype": "text/x-python",
   "name": "python",
   "nbconvert_exporter": "python",
   "pygments_lexer": "ipython3",
   "version": "3.7.3"
  }
 },
 "nbformat": 4,
 "nbformat_minor": 5
}
