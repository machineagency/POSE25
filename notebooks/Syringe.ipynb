{
 "cells": [
  {
   "cell_type": "markdown",
   "id": "54228733-8614-4903-b8ca-c250bf63864b",
   "metadata": {},
   "source": [
    "# Liquid Handling with the SyringeTool \n",
    "This example notebook will show you how to do basic liquid handing with a syringe tool\n",
    "\n",
    "### Before Starting:\n",
    "Clear any existing items off the bed of your machine!"
   ]
  },
  {
   "cell_type": "code",
   "execution_count": null,
   "id": "10271711-9d69-437b-b94f-aeda94e20850",
   "metadata": {
    "tags": []
   },
   "outputs": [],
   "source": [
    "%load_ext autoreload\n",
    "%autoreload 2\n",
    "\n",
    "# Import Machine, Deck, and Syringe modules\n",
    "from science_jubilee.Machine import Machine\n",
    "from science_jubilee.decks import Deck\n",
    "from science_jubilee.tools.Syringe import Syringe"
   ]
  },
  {
   "cell_type": "code",
   "execution_count": null,
   "id": "1dd73566-8a78-49b4-b1d2-a877fed510e5",
   "metadata": {
    "tags": []
   },
   "outputs": [],
   "source": [
    "# Connect to the machine\n",
    "m = Machine(address='localhost')"
   ]
  },
  {
   "cell_type": "markdown",
   "id": "5e773d7a-245a-4861-b3ea-10e130a9e484",
   "metadata": {},
   "source": [
    "### Load the Deck configuration\n",
    "Each lab automation deck requires calibration on a machine. Load in the calibration file like this:"
   ]
  },
  {
   "cell_type": "code",
   "execution_count": null,
   "id": "902bd381-18e0-4407-a710-aabfbea28310",
   "metadata": {
    "tags": []
   },
   "outputs": [],
   "source": [
    "deck = m.load_deck('lab_automation_deck')"
   ]
  },
  {
   "cell_type": "markdown",
   "id": "9e08ed48-f5a9-4627-9314-3760c89a5b68",
   "metadata": {},
   "source": [
    "### Load the Syringe tool"
   ]
  },
  {
   "cell_type": "code",
   "execution_count": null,
   "id": "9ba3b0cb-c9ac-445e-ab33-f1a2dbf5c592",
   "metadata": {
    "tags": []
   },
   "outputs": [],
   "source": [
    "# To load the tool, specify the index of the tool on your machine\n",
    "# If you're not sure what your tool index is, you can query Duet about what tools are configured like this:\n",
    "m.configured_tools"
   ]
  },
  {
   "cell_type": "code",
   "execution_count": null,
   "id": "56358841-6efe-4f1c-a1cf-6c10ac45cd77",
   "metadata": {
    "tags": []
   },
   "outputs": [],
   "source": [
    "# Change the following tool_index variable to match your machine configuration, if necessary\n",
    "tool_index = 0"
   ]
  },
  {
   "cell_type": "code",
   "execution_count": null,
   "id": "cc27915a-ec86-4804-92ec-fd56feb7a3a0",
   "metadata": {
    "tags": []
   },
   "outputs": [],
   "source": [
    "# The syringe config file contains calibration data\n",
    "# You can name the syringe whatever you'd like!\n",
    "syringe = Syringe(index = tool_index,\n",
    "                  name = 'syringe1',\n",
    "                  config = '10cc_syringe'\n",
    "                 )\n",
    "m.load_tool(syringe)"
   ]
  },
  {
   "cell_type": "code",
   "execution_count": null,
   "id": "8d429162-4657-41e8-ab2a-144b7291d933",
   "metadata": {
    "tags": []
   },
   "outputs": [],
   "source": [
    "# Now you can pick up the syringe!\n",
    "m.pickup_tool(syringe)"
   ]
  },
  {
   "cell_type": "markdown",
   "id": "20a46302-862d-44fe-ac8a-e34c2a39e3bc",
   "metadata": {},
   "source": [
    "### Prep Labware\n",
    "For this example, we'll use a petri dish as a reservoir, and move liquid into a 24 well plate.\n",
    "\n",
    "You should add some water to a petri dish, and have your water reservoir as well as a 24 well plate at hand!"
   ]
  },
  {
   "cell_type": "markdown",
   "id": "aa5396c7-0bca-4c46-ac68-4cceab8c81aa",
   "metadata": {},
   "source": [
    "### Load Labware\n",
    "Once you have gathered your materials, load the labware."
   ]
  },
  {
   "cell_type": "code",
   "execution_count": null,
   "id": "29250708-bf42-428d-aee0-29e2f2808e56",
   "metadata": {
    "tags": []
   },
   "outputs": [],
   "source": [
    "# Specify the slot to install your labware\n",
    "samples = m.load_labware(\"greiner_24_wellplate_3300ul\", 0)\n",
    "reservoir = m.load_labware(\"generic_petri_dish_100ml\", 1)\n",
    "\n",
    "# A petri dish has only 1 \"well\", so we can directly access it for convenience\n",
    "reservoir = reservoir[\"A1\"]"
   ]
  },
  {
   "cell_type": "code",
   "execution_count": null,
   "id": "d022421f-f7eb-4d2e-b2a4-287ee1e08e63",
   "metadata": {
    "tags": []
   },
   "outputs": [],
   "source": [
    "# Now physically install the labware on the machine!\n",
    "# You can drop the bed down to make room\n",
    "m.move_to(z=150)"
   ]
  },
  {
   "cell_type": "markdown",
   "id": "e47e4ef9-b447-444b-9695-ce3c5d4503de",
   "metadata": {
    "tags": []
   },
   "source": [
    "### Moving liquid with the transfer\n",
    "We can transfer liquid with the transfer command! To transfer liquid, we specify a quantity of liquid, source well, and destination well. "
   ]
  },
  {
   "cell_type": "code",
   "execution_count": null,
   "id": "fabd6125-2029-4ad0-99b9-56d8326576be",
   "metadata": {
    "tags": []
   },
   "outputs": [],
   "source": [
    "# Transfer 1 mL of water to well A1 of our sample plate\n",
    "sample_well = samples[\"A1\"]\n",
    "syringe.transfer(vol = 1,\n",
    "                 source = reservoir,\n",
    "                 destination = sample_well)"
   ]
  },
  {
   "cell_type": "code",
   "execution_count": null,
   "id": "956b21e3-5ff5-43e0-b2a9-d0cc72bd1099",
   "metadata": {
    "tags": []
   },
   "outputs": [],
   "source": [
    "# We can mix after transferring with the mix_after command\n",
    "# Where we can specify (quantity_to_mix_with, number_of_mixes)\n",
    "sample_well = samples[\"A2\"]\n",
    "syringe.transfer(vol = 1,\n",
    "                 source = reservoir,\n",
    "                 destination = sample_well,\n",
    "                 mix_after = (1,2),\n",
    "                )"
   ]
  },
  {
   "cell_type": "code",
   "execution_count": null,
   "id": "8a46c07c-feb3-40a3-8c59-e2a58a954fd3",
   "metadata": {
    "tags": []
   },
   "outputs": [],
   "source": [
    "# We can also provide a list of destination wells\n",
    "# For example, to fill all the wells in row C:\n",
    "\n",
    "destination_wells = list(samples.row_data[\"C\"])\n",
    "syringe.transfer(vol = 1,\n",
    "                 source = reservoir,\n",
    "                 destination = destination_wells,\n",
    "                 mix_after = (1,2),\n",
    "                )"
   ]
  },
  {
   "cell_type": "code",
   "execution_count": null,
   "id": "e215c95a-61f5-4480-a300-c2d8572a505e",
   "metadata": {},
   "outputs": [],
   "source": []
  }
 ],
 "metadata": {
  "kernelspec": {
   "display_name": "pose-prep-25",
   "language": "python",
   "name": "pose-prep-25"
  },
  "language_info": {
   "codemirror_mode": {
    "name": "ipython",
    "version": 3
   },
   "file_extension": ".py",
   "mimetype": "text/x-python",
   "name": "python",
   "nbconvert_exporter": "python",
   "pygments_lexer": "ipython3",
   "version": "3.7.3"
  }
 },
 "nbformat": 4,
 "nbformat_minor": 5
}
