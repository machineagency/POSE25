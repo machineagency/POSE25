{
 "cells": [
  {
   "cell_type": "markdown",
   "id": "19366248",
   "metadata": {},
   "source": [
    "# Lab Automation Deck Calibration\n",
    "After installing a lab automation deck on the machine, we need to record reference positions for each of the six slots for exact alingment. Step through this notebook to create a lab_automation_deck_config.json file!\n",
    "\n",
    "You can use any tool to calibrate the deck. This notebook assumes you have a pipettetool setup on your machine. If you don't, you can use another tool to manually align each offset.\n",
    "\n",
    "**NOTE:** We'll manually probe with the pipette tool to find x/y offset positions. Be careful when sending commands to be sure you won't crash the tool!"
   ]
  },
  {
   "cell_type": "code",
   "execution_count": 10,
   "id": "0f29d106",
   "metadata": {},
   "outputs": [
    {
     "name": "stdout",
     "output_type": "stream",
     "text": [
      "The autoreload extension is already loaded. To reload it, use:\n",
      "  %reload_ext autoreload\n"
     ]
    }
   ],
   "source": [
    "from science_jubilee.Machine import Machine, get_root_dir\n",
    "from science_jubilee.tools.Tool import Tool\n",
    "from jinja2 import Environment, FileSystemLoader, select_autoescape\n",
    "import json\n",
    "import os\n",
    "%load_ext autoreload\n",
    "%autoreload 2"
   ]
  },
  {
   "cell_type": "code",
   "execution_count": 3,
   "id": "080e1201-a926-478f-b535-ea3a6c52996e",
   "metadata": {
    "tags": []
   },
   "outputs": [],
   "source": [
    "# Set up the calibration file\n",
    "# The following default values apply to the standard lab automation deck\n",
    "# If you have a customized deck, you can change them as necessary!\n",
    "deck_type = \"Lab Automation Deck\"       # What type of deck is this?\n",
    "num_slots = 6                           # How many slots are there\n",
    "num_sharps_containers = 0               # How many sharps containers are you using, if any?\n",
    "slot_type = \"SLAS Standard Labware\"     # What do these slots hold?\n",
    "plate_material = \"Aluminum\"             # What is your Jubilee bed plate material\n",
    "mask_material = \"Delrin\"                # What material is your deck made of?\n",
    "\n",
    "# Your lab automation deck slots will have 1 corner with no flexure element\n",
    "# Specify whether this is the top_left, top_right, bottom_left, or bottom_right\n",
    "# where 'right' means larger x values and 'top' means larger y values\n",
    "offset_corner = \"bottom_left\" # What corner are you offsetting from?"
   ]
  },
  {
   "cell_type": "code",
   "execution_count": 4,
   "id": "499e38aa-1637-4e93-956a-d4ede03ef93a",
   "metadata": {
    "tags": []
   },
   "outputs": [],
   "source": [
    "# We'll populate slot_data using this set_slot_data function\n",
    "slot_data = {} \n",
    "def set_slot_data(slot_index: int):\n",
    "    position = m.get_position()\n",
    "    slot_offset = [float(position['X']), float(position['Y'])]\n",
    "    slot_data[slot_index] = slot_offset"
   ]
  },
  {
   "cell_type": "code",
   "execution_count": 5,
   "id": "6dbd036d",
   "metadata": {},
   "outputs": [
    {
     "name": "stdout",
     "output_type": "stream",
     "text": [
      "Warning: disconnecting this application from the network will halt connection to Jubilee.\n"
     ]
    }
   ],
   "source": [
    "# Initialize your machine connection\n",
    "m = Machine(address=\"10.19.103.41\")"
   ]
  },
  {
   "cell_type": "code",
   "execution_count": 13,
   "id": "b309605d",
   "metadata": {},
   "outputs": [],
   "source": [
    "# Drop the bed down\n",
    "m.move_to(z=150)"
   ]
  },
  {
   "cell_type": "code",
   "execution_count": 7,
   "id": "284ab467",
   "metadata": {},
   "outputs": [
    {
     "data": {
      "text/plain": [
       "{0: 'Spectral Sensor', 1: 'Camera', 2: 'Syringe', 3: 'Pipette'}"
      ]
     },
     "execution_count": 7,
     "metadata": {},
     "output_type": "execute_result"
    }
   ],
   "source": [
    "# Check which tools are currently configured on your machine\n",
    "m.configured_tools"
   ]
  },
  {
   "cell_type": "code",
   "execution_count": null,
   "id": "9e0d591b",
   "metadata": {},
   "outputs": [],
   "source": [
    "# Load your pipette tool\n",
    "# Change this to match the index of your tool\n",
    "tool = Tool(index=3, name=\"Pipette\") \n",
    "m.load_tool(tool)"
   ]
  },
  {
   "cell_type": "code",
   "execution_count": 12,
   "id": "519586c0-7ed0-42c5-a40a-be1d4015e1e2",
   "metadata": {
    "tags": []
   },
   "outputs": [],
   "source": [
    "m.pickup_tool(tool)"
   ]
  },
  {
   "cell_type": "markdown",
   "id": "cdb4a4f7",
   "metadata": {},
   "source": [
    "**If you're using a pipette, manually install a pipette tip so that you have a more precise point to calibrate to**"
   ]
  },
  {
   "cell_type": "code",
   "execution_count": 14,
   "id": "ebce24d1",
   "metadata": {},
   "outputs": [],
   "source": [
    "# The 0th slot is closest to the machine's (0,0)\n",
    "# Move to that general area\n",
    "m.move_to(x=30, y=30)"
   ]
  },
  {
   "cell_type": "markdown",
   "id": "8d3abe06",
   "metadata": {},
   "source": [
    "Now, use the Duet Web Control interface to **slowly** bring the bed up until the pipette tip enters the working area of the by incrementing by small steps (Z-5 to start, then use Z-0.5 when you approach the bed). Then, **slowly** move in x and y until the pipette tip is just touching the relevent offset corner (i.e. the corner with no flexural element).\n",
    "\n",
    "**Don't overshoot!**"
   ]
  },
  {
   "cell_type": "markdown",
   "id": "9f3ab2bd",
   "metadata": {},
   "source": [
    "Once you are there, the following cell will safe this position"
   ]
  },
  {
   "cell_type": "code",
   "execution_count": 15,
   "id": "5e838c96",
   "metadata": {},
   "outputs": [],
   "source": [
    "# Save this position\n",
    "slot_index = 0\n",
    "set_slot_data(slot_index)"
   ]
  },
  {
   "cell_type": "code",
   "execution_count": 18,
   "id": "e38921f6",
   "metadata": {},
   "outputs": [],
   "source": [
    "# Drop the bed back down before moving anywhere else\n",
    "m.move_to(z=100)"
   ]
  },
  {
   "cell_type": "code",
   "execution_count": 16,
   "id": "4ff27687",
   "metadata": {},
   "outputs": [],
   "source": [
    "# Now, we'll repeat this in the following cells for each of the other slots!\n",
    "# Be sure tolign to the same corner for each slot, i.e. the corner with no flexure"
   ]
  },
  {
   "cell_type": "code",
   "execution_count": 19,
   "id": "0b286d5b",
   "metadata": {},
   "outputs": [],
   "source": [
    "# Slot 1\n",
    "m.move(dx=140)        # The next slot should be ~140mm away"
   ]
  },
  {
   "cell_type": "markdown",
   "id": "8645681b",
   "metadata": {},
   "source": [
    "**Fine Tune.** Note that you might be on top of the bed plate if the plate if the plate is slightly angled; move around in x and y before moveing in z if necessary. Again, use the Duet Web Control interface to **slowly** bring the bed up until the pipette tip enters the working area of the by incrementing by small steps (Z-5 to start, then use Z-0.5 when you approach the bed). Then, **slowly** move in x and y until the pipette tip is just touching the relevent offset corner (i.e. the corner with no flexural element).\n",
    "\n",
    "**Don't overshoot!**"
   ]
  },
  {
   "cell_type": "code",
   "execution_count": 20,
   "id": "164f087f-7403-4c13-9f26-eb53d72159d5",
   "metadata": {},
   "outputs": [],
   "source": [
    "# Once you are aligned with the relevent corner, save the position\n",
    "slot_index = 1\n",
    "set_slot_data(slot_index)"
   ]
  },
  {
   "cell_type": "code",
   "execution_count": 21,
   "id": "68ab79bd",
   "metadata": {},
   "outputs": [],
   "source": [
    "# Drop the bed back down before moving anywhere else\n",
    "m.move_to(z=100)"
   ]
  },
  {
   "cell_type": "code",
   "execution_count": 22,
   "id": "2d9d9cdc",
   "metadata": {},
   "outputs": [],
   "source": [
    "# Slot 2\n",
    "m.move(dx=-140, dy=100) # Move to approximate position of slot 2"
   ]
  },
  {
   "cell_type": "markdown",
   "id": "4978b569",
   "metadata": {},
   "source": [
    "**Fine Tune.** Note that you might be on top of the bed plate if the plate if the plate is slightly angled; move around in x and y before moveing in z if necessary. Again, use the Duet Web Control interface to **slowly** bring the bed up until the pipette tip enters the working area of the by incrementing by small steps (Z-5 to start, then use Z-0.5 when you approach the bed). Then, **slowly** move in x and y until the pipette tip is just touching the relevent offset corner (i.e. the corner with no flexural element).\n",
    "\n",
    "**Don't overshoot!**"
   ]
  },
  {
   "cell_type": "code",
   "execution_count": 23,
   "id": "5cbca426-185d-4ae6-8b4a-1694c2cbe22e",
   "metadata": {
    "tags": []
   },
   "outputs": [],
   "source": [
    "# Once you are aligned with the relevent corner, save the position\n",
    "slot_index = 2\n",
    "set_slot_data(slot_index)"
   ]
  },
  {
   "cell_type": "code",
   "execution_count": 24,
   "id": "604d1b4c",
   "metadata": {},
   "outputs": [],
   "source": [
    "# Drop the bed back down before moving anywhere else\n",
    "m.move_to(z=100)"
   ]
  },
  {
   "cell_type": "code",
   "execution_count": 25,
   "id": "044ede74",
   "metadata": {},
   "outputs": [],
   "source": [
    "# Slot 3\n",
    "m.move(dx=140)          # Move to approximate position of slot 3"
   ]
  },
  {
   "cell_type": "markdown",
   "id": "bbbb6960",
   "metadata": {},
   "source": [
    "**Fine Tune.** Note that you might be on top of the bed plate if the plate if the plate is slightly angled; move around in x and y before moveing in z if necessary. Again, use the Duet Web Control interface to **slowly** bring the bed up until the pipette tip enters the working area of the by incrementing by small steps (Z-5 to start, then use Z-0.5 when you approach the bed). Then, **slowly** move in x and y until the pipette tip is just touching the relevent offset corner (i.e. the corner with no flexural element).\n",
    "\n",
    "**Don't overshoot!**"
   ]
  },
  {
   "cell_type": "code",
   "execution_count": 26,
   "id": "666a1b78",
   "metadata": {},
   "outputs": [],
   "source": [
    "# Save this position\n",
    "slot_index = 3\n",
    "set_slot_data(slot_index)"
   ]
  },
  {
   "cell_type": "code",
   "execution_count": 27,
   "id": "be4c65e3",
   "metadata": {},
   "outputs": [],
   "source": [
    "# Drop the bed back down before moving anywhere else\n",
    "m.move_to(z=100)"
   ]
  },
  {
   "cell_type": "code",
   "execution_count": 28,
   "id": "cf5a4f67",
   "metadata": {},
   "outputs": [],
   "source": [
    "# Slot 4\n",
    "m.move(dx=-140, dy=100) # Move to approximate position of slot 4"
   ]
  },
  {
   "cell_type": "markdown",
   "id": "21b7bd60",
   "metadata": {},
   "source": [
    "**Fine Tune.** Note that you might be on top of the bed plate if the plate if the plate is slightly angled; move around in x and y before moving in z if necessary. Again, use the Duet Web Control interface to **slowly** bring the bed up until the pipette tip enters the working area of the by incrementing by small steps (Z-5 to start, then use Z-0.5 when you approach the bed). Then, **slowly** move in x and y until the pipette tip is just touching the relevent offset corner (i.e. the corner with no flexural element).\n",
    "\n",
    "**Don't overshoot!**"
   ]
  },
  {
   "cell_type": "code",
   "execution_count": 29,
   "id": "5d21b486",
   "metadata": {},
   "outputs": [],
   "source": [
    "# Save this position\n",
    "slot_index = 4\n",
    "set_slot_data(slot_index)"
   ]
  },
  {
   "cell_type": "code",
   "execution_count": 31,
   "id": "e2d12a04",
   "metadata": {},
   "outputs": [],
   "source": [
    "# Drop the bed back down before moving anywhere else\n",
    "m.move_to(z=100)"
   ]
  },
  {
   "cell_type": "code",
   "execution_count": 32,
   "id": "3608bc74",
   "metadata": {},
   "outputs": [],
   "source": [
    "# Slot 5\n",
    "m.move(dx=140) # Move to approximate position of slot 5"
   ]
  },
  {
   "cell_type": "markdown",
   "id": "10128d0d",
   "metadata": {},
   "source": [
    "**Fine Tune.** Note that you might be on top of the bed plate if the plate if the plate is slightly angled; move around in x and y before moving in z if necessary. Again, use the Duet Web Control interface to **slowly** bring the bed up until the pipette tip enters the working area of the by incrementing by small steps (Z-5 to start, then use Z-0.5 when you approach the bed). Then, **slowly** move in x and y until the pipette tip is just touching the relevent offset corner (i.e. the corner with no flexural element).\n",
    "\n",
    "**Don't overshoot!**"
   ]
  },
  {
   "cell_type": "code",
   "execution_count": 33,
   "id": "f6132fbf",
   "metadata": {},
   "outputs": [],
   "source": [
    "# Save this position\n",
    "slot_index = 5\n",
    "set_slot_data(slot_index)"
   ]
  },
  {
   "cell_type": "code",
   "execution_count": 34,
   "id": "5db26778",
   "metadata": {},
   "outputs": [],
   "source": [
    "# Drop the bed back down before moving anywhere else\n",
    "m.move_to(z=100)"
   ]
  },
  {
   "cell_type": "code",
   "execution_count": null,
   "id": "f428490e",
   "metadata": {},
   "outputs": [],
   "source": [
    "# If you have a sharps container installed, manually move to it\n",
    "# Skip to \"Save Calibration File\" below if you aren't installing a sharps container"
   ]
  },
  {
   "cell_type": "code",
   "execution_count": null,
   "id": "99803e1b-51e6-4399-86e8-7b6192e2552d",
   "metadata": {
    "tags": []
   },
   "outputs": [],
   "source": [
    "# We use negative slot indices for sharps containers\n",
    "slot_index = -1\n",
    "set_slot_data(slot_index)"
   ]
  },
  {
   "cell_type": "code",
   "execution_count": 36,
   "id": "43112001-9ad7-4996-a0b9-954bae66a855",
   "metadata": {
    "tags": []
   },
   "outputs": [],
   "source": [
    "# Save Calibration File\n",
    "file_name = \"POSE-calibrated-deck\" # Change this if you'd like to refer to this calibration by a different name"
   ]
  },
  {
   "cell_type": "code",
   "execution_count": 37,
   "id": "968e5ef9-db85-45fd-ac26-b5e55dc07745",
   "metadata": {
    "tags": []
   },
   "outputs": [],
   "source": [
    "# Run this cell to save your calibration file!\n",
    "deck_config_path = os.path.join(get_root_dir(), \"science_jubilee\", \"decks\", \"deck_definition\", f\"{file_name}.json\")\n",
    "env = Environment(loader=FileSystemLoader(\"templates\"))\n",
    "template = env.get_template(\"lab_automation_deck_template.json\")\n",
    "calibration_contents = template.render(deck_type=deck_type, num_slots=num_slots, num_sharps_containers=num_sharps_containers, slot_type=slot_type, plate_material=plate_material, mask_material=mask_material, offset_corner=offset_corner, slot_data=slot_data)\n",
    "\n",
    "with open(deck_config_path, 'w') as f:\n",
    "    f.write(calibration_contents)"
   ]
  },
  {
   "cell_type": "markdown",
   "id": "3f0aca1a",
   "metadata": {},
   "source": [
    "**Manually Remove your pipette tip now!**"
   ]
  },
  {
   "cell_type": "code",
   "execution_count": 38,
   "id": "89fc458d-14d2-452c-b9eb-903b96f1b687",
   "metadata": {},
   "outputs": [],
   "source": [
    "# Once the pipette tip is removed, we can park the tool\n",
    "m.park_tool()"
   ]
  },
  {
   "cell_type": "code",
   "execution_count": null,
   "id": "19200e79",
   "metadata": {},
   "outputs": [],
   "source": []
  }
 ],
 "metadata": {
  "kernelspec": {
   "display_name": "POSE25-311",
   "language": "python",
   "name": "pose25-311"
  },
  "language_info": {
   "codemirror_mode": {
    "name": "ipython",
    "version": 3
   },
   "file_extension": ".py",
   "mimetype": "text/x-python",
   "name": "python",
   "nbconvert_exporter": "python",
   "pygments_lexer": "ipython3",
   "version": "3.11.9"
  }
 },
 "nbformat": 4,
 "nbformat_minor": 5
}
