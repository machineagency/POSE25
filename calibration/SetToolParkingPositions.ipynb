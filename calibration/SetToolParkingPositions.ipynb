{
 "cells": [
  {
   "cell_type": "markdown",
   "id": "81407bb0-9dd1-4ec2-a2a8-b636303c9cba",
   "metadata": {},
   "source": [
    "# Setting Jubilee Tool Parking Positions\n",
    "To pick up a tool, we need to define the X and Y position where the tool is parked to be able to pick it up and drop it off. This notebook walks through the steps outlined [here](https://www.jubilee3d.com/index.php?title=Setting_Tool_Parking_Positions) to set tool parking positions!\n",
    "\n"
   ]
  },
  {
   "cell_type": "markdown",
   "id": "f3d40c3e-1490-4b2b-ba51-a0838d0a35fa",
   "metadata": {
    "tags": []
   },
   "source": [
    "### 0. Notebook Setup\n",
    "We'll need to send commands to the machine–the following cells set up this communication."
   ]
  },
  {
   "cell_type": "code",
   "execution_count": 3,
   "id": "2df538aa-4243-4c64-9034-a4fa6eead883",
   "metadata": {
    "tags": []
   },
   "outputs": [],
   "source": [
    "# Import required modules\n",
    "from science_jubilee.Machine import Machine\n",
    "from science_jubilee.tools.Tool import Tool\n",
    "from CalibrationControlPanel import make_control_panel\n",
    "import os\n",
    "import sys\n",
    "from jinja2 import Environment, FileSystemLoader, select_autoescape"
   ]
  },
  {
   "cell_type": "code",
   "execution_count": 29,
   "id": "2713979f-ae63-400b-90dc-2b9c441b2341",
   "metadata": {
    "tags": []
   },
   "outputs": [
    {
     "name": "stdout",
     "output_type": "stream",
     "text": [
      "Warning: disconnecting this application from the network will halt connection to Jubilee.\n"
     ]
    }
   ],
   "source": [
    "# Establish connection with machine\n",
    "m = Machine(address=\"10.18.97.222\") # edit the address as necessary"
   ]
  },
  {
   "cell_type": "code",
   "execution_count": 30,
   "id": "9a2ecaa7",
   "metadata": {},
   "outputs": [
    {
     "data": {
      "text/plain": [
       "{0: 'Spectral Sensor', 1: 'Camera', 2: 'Syringe', 3: 'Pipette'}"
      ]
     },
     "execution_count": 30,
     "metadata": {},
     "output_type": "execute_result"
    }
   ],
   "source": [
    "m.configured_tools"
   ]
  },
  {
   "cell_type": "code",
   "execution_count": 31,
   "id": "0b21fb56",
   "metadata": {
    "tags": []
   },
   "outputs": [
    {
     "ename": "MachineStateError",
     "evalue": "Error: Relative move exceeds Y axis limit!",
     "output_type": "error",
     "traceback": [
      "\u001b[0;31m---------------------------------------------------------------------------\u001b[0m",
      "\u001b[0;31mMachineStateError\u001b[0m                         Traceback (most recent call last)",
      "File \u001b[0;32m~/HCDE/POSE25/calibration/CalibrationControlPanel.py:16\u001b[0m, in \u001b[0;36mmake_control_panel.<locals>.button_move\u001b[0;34m(b, dx, dy)\u001b[0m\n\u001b[1;32m     15\u001b[0m \u001b[38;5;28;01mdef\u001b[39;00m\u001b[38;5;250m \u001b[39m\u001b[38;5;21mbutton_move\u001b[39m(b, dx\u001b[38;5;241m=\u001b[39m\u001b[38;5;241m0\u001b[39m, dy\u001b[38;5;241m=\u001b[39m\u001b[38;5;241m0\u001b[39m):\n\u001b[0;32m---> 16\u001b[0m     \u001b[43mm\u001b[49m\u001b[38;5;241;43m.\u001b[39;49m\u001b[43mmove\u001b[49m\u001b[43m(\u001b[49m\u001b[43mdx\u001b[49m\u001b[38;5;241;43m=\u001b[39;49m\u001b[43mdx\u001b[49m\u001b[43m,\u001b[49m\u001b[43m \u001b[49m\u001b[43mdy\u001b[49m\u001b[38;5;241;43m=\u001b[39;49m\u001b[43mdy\u001b[49m\u001b[43m)\u001b[49m\n",
      "File \u001b[0;32m~/HCDE/science-jubilee/src/science_jubilee/Machine.py:856\u001b[0m, in \u001b[0;36mMachine.move\u001b[0;34m(self, dx, dy, dz, de, dv, s, param, wait)\u001b[0m\n\u001b[1;32m    847\u001b[0m     \u001b[38;5;28;01mraise\u001b[39;00m MachineStateError(\u001b[38;5;124m\"\u001b[39m\u001b[38;5;124mError: Relative move exceeds X axis limit!\u001b[39m\u001b[38;5;124m\"\u001b[39m)\n\u001b[1;32m    848\u001b[0m \u001b[38;5;28;01mif\u001b[39;00m (\n\u001b[1;32m    849\u001b[0m     y_limit\n\u001b[1;32m    850\u001b[0m     \u001b[38;5;129;01mand\u001b[39;00m dy \u001b[38;5;241m!=\u001b[39m \u001b[38;5;241m0\u001b[39m\n\u001b[0;32m   (...)\u001b[0m\n\u001b[1;32m    854\u001b[0m     )\n\u001b[1;32m    855\u001b[0m ):\n\u001b[0;32m--> 856\u001b[0m     \u001b[38;5;28;01mraise\u001b[39;00m MachineStateError(\u001b[38;5;124m\"\u001b[39m\u001b[38;5;124mError: Relative move exceeds Y axis limit!\u001b[39m\u001b[38;5;124m\"\u001b[39m)\n\u001b[1;32m    857\u001b[0m \u001b[38;5;28;01mif\u001b[39;00m (\n\u001b[1;32m    858\u001b[0m     z_limit\n\u001b[1;32m    859\u001b[0m     \u001b[38;5;129;01mand\u001b[39;00m dz \u001b[38;5;241m!=\u001b[39m \u001b[38;5;241m0\u001b[39m\n\u001b[0;32m   (...)\u001b[0m\n\u001b[1;32m    863\u001b[0m     )\n\u001b[1;32m    864\u001b[0m ):\n\u001b[1;32m    865\u001b[0m     \u001b[38;5;28;01mraise\u001b[39;00m MachineStateError(\u001b[38;5;124m\"\u001b[39m\u001b[38;5;124mError: Relative move exceeds Z axis limit!\u001b[39m\u001b[38;5;124m\"\u001b[39m)\n",
      "\u001b[0;31mMachineStateError\u001b[0m: Error: Relative move exceeds Y axis limit!"
     ]
    },
    {
     "ename": "MachineStateError",
     "evalue": "Error: Relative move exceeds Y axis limit!",
     "output_type": "error",
     "traceback": [
      "\u001b[0;31m---------------------------------------------------------------------------\u001b[0m",
      "\u001b[0;31mMachineStateError\u001b[0m                         Traceback (most recent call last)",
      "File \u001b[0;32m~/HCDE/POSE25/calibration/CalibrationControlPanel.py:16\u001b[0m, in \u001b[0;36mmake_control_panel.<locals>.button_move\u001b[0;34m(b, dx, dy)\u001b[0m\n\u001b[1;32m     15\u001b[0m \u001b[38;5;28;01mdef\u001b[39;00m\u001b[38;5;250m \u001b[39m\u001b[38;5;21mbutton_move\u001b[39m(b, dx\u001b[38;5;241m=\u001b[39m\u001b[38;5;241m0\u001b[39m, dy\u001b[38;5;241m=\u001b[39m\u001b[38;5;241m0\u001b[39m):\n\u001b[0;32m---> 16\u001b[0m     \u001b[43mm\u001b[49m\u001b[38;5;241;43m.\u001b[39;49m\u001b[43mmove\u001b[49m\u001b[43m(\u001b[49m\u001b[43mdx\u001b[49m\u001b[38;5;241;43m=\u001b[39;49m\u001b[43mdx\u001b[49m\u001b[43m,\u001b[49m\u001b[43m \u001b[49m\u001b[43mdy\u001b[49m\u001b[38;5;241;43m=\u001b[39;49m\u001b[43mdy\u001b[49m\u001b[43m)\u001b[49m\n",
      "File \u001b[0;32m~/HCDE/science-jubilee/src/science_jubilee/Machine.py:856\u001b[0m, in \u001b[0;36mMachine.move\u001b[0;34m(self, dx, dy, dz, de, dv, s, param, wait)\u001b[0m\n\u001b[1;32m    847\u001b[0m     \u001b[38;5;28;01mraise\u001b[39;00m MachineStateError(\u001b[38;5;124m\"\u001b[39m\u001b[38;5;124mError: Relative move exceeds X axis limit!\u001b[39m\u001b[38;5;124m\"\u001b[39m)\n\u001b[1;32m    848\u001b[0m \u001b[38;5;28;01mif\u001b[39;00m (\n\u001b[1;32m    849\u001b[0m     y_limit\n\u001b[1;32m    850\u001b[0m     \u001b[38;5;129;01mand\u001b[39;00m dy \u001b[38;5;241m!=\u001b[39m \u001b[38;5;241m0\u001b[39m\n\u001b[0;32m   (...)\u001b[0m\n\u001b[1;32m    854\u001b[0m     )\n\u001b[1;32m    855\u001b[0m ):\n\u001b[0;32m--> 856\u001b[0m     \u001b[38;5;28;01mraise\u001b[39;00m MachineStateError(\u001b[38;5;124m\"\u001b[39m\u001b[38;5;124mError: Relative move exceeds Y axis limit!\u001b[39m\u001b[38;5;124m\"\u001b[39m)\n\u001b[1;32m    857\u001b[0m \u001b[38;5;28;01mif\u001b[39;00m (\n\u001b[1;32m    858\u001b[0m     z_limit\n\u001b[1;32m    859\u001b[0m     \u001b[38;5;129;01mand\u001b[39;00m dz \u001b[38;5;241m!=\u001b[39m \u001b[38;5;241m0\u001b[39m\n\u001b[0;32m   (...)\u001b[0m\n\u001b[1;32m    863\u001b[0m     )\n\u001b[1;32m    864\u001b[0m ):\n\u001b[1;32m    865\u001b[0m     \u001b[38;5;28;01mraise\u001b[39;00m MachineStateError(\u001b[38;5;124m\"\u001b[39m\u001b[38;5;124mError: Relative move exceeds Z axis limit!\u001b[39m\u001b[38;5;124m\"\u001b[39m)\n",
      "\u001b[0;31mMachineStateError\u001b[0m: Error: Relative move exceeds Y axis limit!"
     ]
    },
    {
     "ename": "MachineStateError",
     "evalue": "Error: Relative move exceeds Y axis limit!",
     "output_type": "error",
     "traceback": [
      "\u001b[0;31m---------------------------------------------------------------------------\u001b[0m",
      "\u001b[0;31mMachineStateError\u001b[0m                         Traceback (most recent call last)",
      "File \u001b[0;32m~/HCDE/POSE25/calibration/CalibrationControlPanel.py:16\u001b[0m, in \u001b[0;36mmake_control_panel.<locals>.button_move\u001b[0;34m(b, dx, dy)\u001b[0m\n\u001b[1;32m     15\u001b[0m \u001b[38;5;28;01mdef\u001b[39;00m\u001b[38;5;250m \u001b[39m\u001b[38;5;21mbutton_move\u001b[39m(b, dx\u001b[38;5;241m=\u001b[39m\u001b[38;5;241m0\u001b[39m, dy\u001b[38;5;241m=\u001b[39m\u001b[38;5;241m0\u001b[39m):\n\u001b[0;32m---> 16\u001b[0m     \u001b[43mm\u001b[49m\u001b[38;5;241;43m.\u001b[39;49m\u001b[43mmove\u001b[49m\u001b[43m(\u001b[49m\u001b[43mdx\u001b[49m\u001b[38;5;241;43m=\u001b[39;49m\u001b[43mdx\u001b[49m\u001b[43m,\u001b[49m\u001b[43m \u001b[49m\u001b[43mdy\u001b[49m\u001b[38;5;241;43m=\u001b[39;49m\u001b[43mdy\u001b[49m\u001b[43m)\u001b[49m\n",
      "File \u001b[0;32m~/HCDE/science-jubilee/src/science_jubilee/Machine.py:856\u001b[0m, in \u001b[0;36mMachine.move\u001b[0;34m(self, dx, dy, dz, de, dv, s, param, wait)\u001b[0m\n\u001b[1;32m    847\u001b[0m     \u001b[38;5;28;01mraise\u001b[39;00m MachineStateError(\u001b[38;5;124m\"\u001b[39m\u001b[38;5;124mError: Relative move exceeds X axis limit!\u001b[39m\u001b[38;5;124m\"\u001b[39m)\n\u001b[1;32m    848\u001b[0m \u001b[38;5;28;01mif\u001b[39;00m (\n\u001b[1;32m    849\u001b[0m     y_limit\n\u001b[1;32m    850\u001b[0m     \u001b[38;5;129;01mand\u001b[39;00m dy \u001b[38;5;241m!=\u001b[39m \u001b[38;5;241m0\u001b[39m\n\u001b[0;32m   (...)\u001b[0m\n\u001b[1;32m    854\u001b[0m     )\n\u001b[1;32m    855\u001b[0m ):\n\u001b[0;32m--> 856\u001b[0m     \u001b[38;5;28;01mraise\u001b[39;00m MachineStateError(\u001b[38;5;124m\"\u001b[39m\u001b[38;5;124mError: Relative move exceeds Y axis limit!\u001b[39m\u001b[38;5;124m\"\u001b[39m)\n\u001b[1;32m    857\u001b[0m \u001b[38;5;28;01mif\u001b[39;00m (\n\u001b[1;32m    858\u001b[0m     z_limit\n\u001b[1;32m    859\u001b[0m     \u001b[38;5;129;01mand\u001b[39;00m dz \u001b[38;5;241m!=\u001b[39m \u001b[38;5;241m0\u001b[39m\n\u001b[0;32m   (...)\u001b[0m\n\u001b[1;32m    863\u001b[0m     )\n\u001b[1;32m    864\u001b[0m ):\n\u001b[1;32m    865\u001b[0m     \u001b[38;5;28;01mraise\u001b[39;00m MachineStateError(\u001b[38;5;124m\"\u001b[39m\u001b[38;5;124mError: Relative move exceeds Z axis limit!\u001b[39m\u001b[38;5;124m\"\u001b[39m)\n",
      "\u001b[0;31mMachineStateError\u001b[0m: Error: Relative move exceeds Y axis limit!"
     ]
    },
    {
     "ename": "MachineStateError",
     "evalue": "Error: Relative move exceeds Y axis limit!",
     "output_type": "error",
     "traceback": [
      "\u001b[0;31m---------------------------------------------------------------------------\u001b[0m",
      "\u001b[0;31mMachineStateError\u001b[0m                         Traceback (most recent call last)",
      "File \u001b[0;32m~/HCDE/POSE25/calibration/CalibrationControlPanel.py:16\u001b[0m, in \u001b[0;36mmake_control_panel.<locals>.button_move\u001b[0;34m(b, dx, dy)\u001b[0m\n\u001b[1;32m     15\u001b[0m \u001b[38;5;28;01mdef\u001b[39;00m\u001b[38;5;250m \u001b[39m\u001b[38;5;21mbutton_move\u001b[39m(b, dx\u001b[38;5;241m=\u001b[39m\u001b[38;5;241m0\u001b[39m, dy\u001b[38;5;241m=\u001b[39m\u001b[38;5;241m0\u001b[39m):\n\u001b[0;32m---> 16\u001b[0m     \u001b[43mm\u001b[49m\u001b[38;5;241;43m.\u001b[39;49m\u001b[43mmove\u001b[49m\u001b[43m(\u001b[49m\u001b[43mdx\u001b[49m\u001b[38;5;241;43m=\u001b[39;49m\u001b[43mdx\u001b[49m\u001b[43m,\u001b[49m\u001b[43m \u001b[49m\u001b[43mdy\u001b[49m\u001b[38;5;241;43m=\u001b[39;49m\u001b[43mdy\u001b[49m\u001b[43m)\u001b[49m\n",
      "File \u001b[0;32m~/HCDE/science-jubilee/src/science_jubilee/Machine.py:856\u001b[0m, in \u001b[0;36mMachine.move\u001b[0;34m(self, dx, dy, dz, de, dv, s, param, wait)\u001b[0m\n\u001b[1;32m    847\u001b[0m     \u001b[38;5;28;01mraise\u001b[39;00m MachineStateError(\u001b[38;5;124m\"\u001b[39m\u001b[38;5;124mError: Relative move exceeds X axis limit!\u001b[39m\u001b[38;5;124m\"\u001b[39m)\n\u001b[1;32m    848\u001b[0m \u001b[38;5;28;01mif\u001b[39;00m (\n\u001b[1;32m    849\u001b[0m     y_limit\n\u001b[1;32m    850\u001b[0m     \u001b[38;5;129;01mand\u001b[39;00m dy \u001b[38;5;241m!=\u001b[39m \u001b[38;5;241m0\u001b[39m\n\u001b[0;32m   (...)\u001b[0m\n\u001b[1;32m    854\u001b[0m     )\n\u001b[1;32m    855\u001b[0m ):\n\u001b[0;32m--> 856\u001b[0m     \u001b[38;5;28;01mraise\u001b[39;00m MachineStateError(\u001b[38;5;124m\"\u001b[39m\u001b[38;5;124mError: Relative move exceeds Y axis limit!\u001b[39m\u001b[38;5;124m\"\u001b[39m)\n\u001b[1;32m    857\u001b[0m \u001b[38;5;28;01mif\u001b[39;00m (\n\u001b[1;32m    858\u001b[0m     z_limit\n\u001b[1;32m    859\u001b[0m     \u001b[38;5;129;01mand\u001b[39;00m dz \u001b[38;5;241m!=\u001b[39m \u001b[38;5;241m0\u001b[39m\n\u001b[0;32m   (...)\u001b[0m\n\u001b[1;32m    863\u001b[0m     )\n\u001b[1;32m    864\u001b[0m ):\n\u001b[1;32m    865\u001b[0m     \u001b[38;5;28;01mraise\u001b[39;00m MachineStateError(\u001b[38;5;124m\"\u001b[39m\u001b[38;5;124mError: Relative move exceeds Z axis limit!\u001b[39m\u001b[38;5;124m\"\u001b[39m)\n",
      "\u001b[0;31mMachineStateError\u001b[0m: Error: Relative move exceeds Y axis limit!"
     ]
    }
   ],
   "source": [
    "# Change the values in this cell!\n",
    "tool_number = 1           # What is the number of the tool you are setting up? \n",
    "tool_name = \"Camera\"     # Set a human-readable name for this tool\n",
    "\n",
    "# Pickup and park moves should be 'manhattan' style to avoid collisions\n",
    "# That is, we should move in a square block (X & Y seperately) rather than along the shortest path\n",
    "# This ensures we don't hit parking posts by moving directly\n",
    "# A default value of 60 works here!\n",
    "manhattan_offset = 0 \n",
    "\n",
    "control_panel = make_control_panel(m) # This will help us make fine-grain alignment adjustments"
   ]
  },
  {
   "cell_type": "markdown",
   "id": "410d4416-d15b-40e9-bcd0-4ca801fdc6fd",
   "metadata": {
    "tags": []
   },
   "source": [
    "### 1. Tool Definition\n",
    "We need to give the Duet some information about the tool we are going to set up. First, we need to define the tool we're setting up by providing an index and a name. We can do this by adding an `M563` command to the `config.g` file. \n",
    "\n",
    "Run the following cell and copy the output. Paste it in your `config.g file` (to do so, go the the DuetWebControl interface, select System in the left hand toolabr, and then click on the `config.g` file). There will be a section almost at the bottom titled 'Tool Definitions'; paste the `M563` command there.\n",
    "\n",
    "After saving the file, select 'restart the mainboard' on the pop-up window that appears."
   ]
  },
  {
   "cell_type": "code",
   "execution_count": 33,
   "id": "fc9ba8ea-b119-4c79-bd3e-ff6b5594934f",
   "metadata": {
    "tags": []
   },
   "outputs": [
    {
     "name": "stdout",
     "output_type": "stream",
     "text": [
      "M563 P1 S\"Camera\"\n"
     ]
    }
   ],
   "source": [
    "print(f'M563 P{tool_number} S\"{tool_name}\"')"
   ]
  },
  {
   "cell_type": "markdown",
   "id": "aed707cc-14b7-4c8d-8701-13bd923e624f",
   "metadata": {},
   "source": [
    "You'll need to rehome the machine after restarting the mainboard. Run the following cell to do so! Make sure your bed plate is clear."
   ]
  },
  {
   "cell_type": "code",
   "execution_count": 8,
   "id": "1292d656-4d6e-4856-b313-ef992a46282f",
   "metadata": {
    "tags": []
   },
   "outputs": [],
   "source": [
    "m.home_all()"
   ]
  },
  {
   "cell_type": "markdown",
   "id": "45b00608-83c2-44f1-83da-799fc2d27b21",
   "metadata": {
    "tags": []
   },
   "source": [
    "### 2. Roughly place your parking post.\n",
    "Take your parking post assembly and loosely fasten it to the rail approximately where you want it; you should still be able to move the parking post around to adjust it for X-axis position and parking post height. You'll need to align 2 tee-nuts on the Y axis rail, and you can access the m5 screws through the holes on top of the parking post."
   ]
  },
  {
   "cell_type": "markdown",
   "id": "0ca08930-75fb-4fcc-9d98-d27c6d386d3a",
   "metadata": {},
   "source": [
    "### 3. Move the build plate\n",
    "Drop your build plate down (positive Z values) such that any tools you’re about to mount will fully clear the bed."
   ]
  },
  {
   "cell_type": "code",
   "execution_count": 34,
   "id": "54762f44-e3f0-4080-aea9-6517d58cbed1",
   "metadata": {
    "tags": []
   },
   "outputs": [],
   "source": [
    "m.move_to(z=150)"
   ]
  },
  {
   "cell_type": "markdown",
   "id": "4a25a403-0483-48d7-8dbb-028e4ff227f2",
   "metadata": {},
   "source": [
    "### 4. Jog the carriage to somewhere close to the center of the printer bed."
   ]
  },
  {
   "cell_type": "code",
   "execution_count": 35,
   "id": "7c1a35eb-a11e-49e4-b119-d869e07dacb3",
   "metadata": {
    "tags": []
   },
   "outputs": [],
   "source": [
    "m.move_to(x=150, y=150)"
   ]
  },
  {
   "cell_type": "markdown",
   "id": "37ebfa73-ea9b-4b70-81ab-2852e9276124",
   "metadata": {},
   "source": [
    "### 5. With no active tool, manually place your tool against the lock carriage, and lock the tool onto the carriage\n",
    "Run the following tool lock cell once you have placed the tool against the lock carriage."
   ]
  },
  {
   "cell_type": "code",
   "execution_count": 36,
   "id": "8d521ce7-873a-4a0c-a327-a14bf09cc278",
   "metadata": {
    "tags": []
   },
   "outputs": [],
   "source": [
    "m.tool_lock()"
   ]
  },
  {
   "cell_type": "markdown",
   "id": "3e38442b-6e55-4618-918a-c1a3b6e12824",
   "metadata": {},
   "source": [
    "### 6. Now let's find its parking spot! \n",
    "Jog the carriage to roughly where you want to end up across the X-axis.\n",
    "Move to the approximate position where your parking post is."
   ]
  },
  {
   "cell_type": "code",
   "execution_count": 38,
   "id": "5638fbff-1a4c-4745-a790-d6b7f35da35d",
   "metadata": {
    "tags": []
   },
   "outputs": [],
   "source": [
    "m.move_to(x=110) # change this value to approximately line up with the parking post"
   ]
  },
  {
   "cell_type": "markdown",
   "id": "bf5359d9-2ee9-47fe-b0ac-04439f6b310f",
   "metadata": {},
   "source": [
    "### 6. Jog the carriage forward in the Y-axis until its roughly 1 inch away parking post assembly. Make sure the tool is totally clear of the dowel pins for now.\n",
    "Move to the approximate position, then use the control panel to line things up."
   ]
  },
  {
   "cell_type": "code",
   "execution_count": 40,
   "id": "f75de5a0-2951-4ab5-9b40-1132d4c69903",
   "metadata": {},
   "outputs": [],
   "source": [
    "m.move_to(y=200) # move closer to the parking post"
   ]
  },
  {
   "cell_type": "code",
   "execution_count": 41,
   "id": "aeecfbdb-85a6-4928-ad7a-9b6b12ee3bff",
   "metadata": {
    "tags": []
   },
   "outputs": [
    {
     "data": {
      "application/vnd.jupyter.widget-view+json": {
       "model_id": "d5e6de274bb8403e80131541fd0d10fc",
       "version_major": 2,
       "version_minor": 0
      },
      "text/plain": [
       "GridspecLayout(children=(Button(button_style='warning', description='+5mm', layout=Layout(grid_area='widget001…"
      ]
     },
     "execution_count": 41,
     "metadata": {},
     "output_type": "execute_result"
    }
   ],
   "source": [
    "# Now use the control panel to line things up in X and Y\n",
    "control_panel"
   ]
  },
  {
   "cell_type": "markdown",
   "id": "1c50347a-9571-4eb1-9fb0-73c490bb73a0",
   "metadata": {},
   "source": [
    "The tool should now be just in front of the parking post. We'll save this value for later!"
   ]
  },
  {
   "cell_type": "code",
   "execution_count": 45,
   "id": "12e8d5c2-f451-4f2a-95da-8edb129d6cfb",
   "metadata": {
    "tags": []
   },
   "outputs": [
    {
     "data": {
      "text/plain": [
       "280.0"
      ]
     },
     "execution_count": 45,
     "metadata": {},
     "output_type": "execute_result"
    }
   ],
   "source": [
    "# We'll save this y position as the 'y clear' value\n",
    "# Run this cell to save the position; we'll use it later!\n",
    "y_clear = float(m.get_position()['Y'])\n",
    "y_clear"
   ]
  },
  {
   "cell_type": "markdown",
   "id": "8009b383-1290-49a9-8490-c4595707e3d8",
   "metadata": {},
   "source": [
    "### 8. Line up the parking post on the rail to the tool across the X-axis.\n",
    "You can do this by physically moving the parking post along the rail"
   ]
  },
  {
   "cell_type": "markdown",
   "id": "512061bc-1ca2-4887-95fe-3639d3da5282",
   "metadata": {},
   "source": [
    "### 9. Slowly jog the carriage forward in the Y-axis until the tool starts engaging the parking dowel pins.\n",
    "You can do this by incrementing in y using the control panel."
   ]
  },
  {
   "cell_type": "code",
   "execution_count": 16,
   "id": "7636bc6c-fa94-43ff-99b9-ae4bae1aaa06",
   "metadata": {
    "tags": []
   },
   "outputs": [
    {
     "data": {
      "application/vnd.jupyter.widget-view+json": {
       "model_id": "aa3f2cf1157249378c007529ffb201f5",
       "version_major": 2,
       "version_minor": 0
      },
      "text/plain": [
       "GridspecLayout(children=(Button(button_style='warning', description='+5mm', layout=Layout(grid_area='widget001…"
      ]
     },
     "execution_count": 16,
     "metadata": {},
     "output_type": "execute_result"
    }
   ],
   "source": [
    "control_panel"
   ]
  },
  {
   "cell_type": "markdown",
   "id": "1b283f23-0349-478a-95cf-4f8178fbfbb9",
   "metadata": {},
   "source": [
    "### 10. Take a look to make sure everything is lined up: dowel pins, parking wings, etc.\n",
    "You might have to adjust the height of the parking post to get things lined up correctly. To do this, make sure the two screws on the back of the parking post are loosened, and access the height adjustment screw through the hole in the top of the parking post. Tightening will bring the post down, and loosening will raise it."
   ]
  },
  {
   "cell_type": "markdown",
   "id": "1e8ae2c1-bb16-4fa9-825a-e8014ef67785",
   "metadata": {},
   "source": [
    "### 11. Jog the carriage further in the Y-axis in small (1mm) increments until you’ve achieved a full dock. Depending on your tool, your tool wings may or may not make contact with the pack of the parking post."
   ]
  },
  {
   "cell_type": "code",
   "execution_count": 17,
   "id": "f31d00fc-3d61-449d-9320-cc6c80bed19a",
   "metadata": {},
   "outputs": [
    {
     "data": {
      "application/vnd.jupyter.widget-view+json": {
       "model_id": "aa3f2cf1157249378c007529ffb201f5",
       "version_major": 2,
       "version_minor": 0
      },
      "text/plain": [
       "GridspecLayout(children=(Button(button_style='warning', description='+5mm', layout=Layout(grid_area='widget001…"
      ]
     },
     "execution_count": 17,
     "metadata": {},
     "output_type": "execute_result"
    }
   ],
   "source": [
    "control_panel"
   ]
  },
  {
   "cell_type": "markdown",
   "id": "807d8f11-71de-4f53-b257-cf7b89d7c827",
   "metadata": {},
   "source": [
    "### 12. Adjust the position in the X-axis to your liking (not by hand, we don’t want to lose position).\n",
    "You can move +/-0.1mm in x to line things up."
   ]
  },
  {
   "cell_type": "code",
   "execution_count": 18,
   "id": "8fafc385-00fe-4f7e-873a-4def555ed9e5",
   "metadata": {},
   "outputs": [
    {
     "data": {
      "application/vnd.jupyter.widget-view+json": {
       "model_id": "aa3f2cf1157249378c007529ffb201f5",
       "version_major": 2,
       "version_minor": 0
      },
      "text/plain": [
       "GridspecLayout(children=(Button(button_style='warning', description='+5mm', layout=Layout(grid_area='widget001…"
      ]
     },
     "execution_count": 18,
     "metadata": {},
     "output_type": "execute_result"
    }
   ],
   "source": [
    "control_panel"
   ]
  },
  {
   "cell_type": "markdown",
   "id": "612c8e59-7398-4477-8400-f42cbc9536fd",
   "metadata": {},
   "source": [
    "### 13. Once your tool and parking post are fully engaged and in the final position you want them to be, we'll save the X and Y values reported for the printer’s current position."
   ]
  },
  {
   "cell_type": "code",
   "execution_count": 46,
   "id": "97669623-3752-4aff-9c73-2fd5e6dfcdf3",
   "metadata": {
    "tags": []
   },
   "outputs": [
    {
     "data": {
      "text/plain": [
       "(120.0, 336.5)"
      ]
     },
     "execution_count": 46,
     "metadata": {},
     "output_type": "execute_result"
    }
   ],
   "source": [
    "# We'll save this position to use in a couple files\n",
    "pos = m.get_position()\n",
    "x_park = float(pos['X'])\n",
    "y_park = float(pos['Y'])\n",
    "x_park, y_park"
   ]
  },
  {
   "cell_type": "markdown",
   "id": "a133e5b5-ad7f-418c-854a-3d81f90e462a",
   "metadata": {},
   "source": [
    "### 14. Tighten down the tee-nuts using the Allen key to lock in your X-axis position for this tool."
   ]
  },
  {
   "cell_type": "markdown",
   "id": "f71fa8cd-362e-439e-ad1c-d359805abb5c",
   "metadata": {},
   "source": [
    "### 15. Adjust your parking post height adjustment screw until you’re satisfied that the tool is properly supported and parallel to the Y-axis rails of your printer. Tighten down the screws for the height adjustment on the back of the parking post to lock it in."
   ]
  },
  {
   "cell_type": "markdown",
   "id": "08edf85a-4b1e-49f7-b5ff-dbf18d3d0428",
   "metadata": {},
   "source": [
    "### 16. Unlock the tool from the carriage using the following cell"
   ]
  },
  {
   "cell_type": "code",
   "execution_count": 47,
   "id": "01e22774-e3f5-489c-bf77-e5389b35b78b",
   "metadata": {},
   "outputs": [],
   "source": [
    "m.tool_unlock()"
   ]
  },
  {
   "cell_type": "markdown",
   "id": "6c7652c7-43d5-4366-a160-f3822188a5df",
   "metadata": {},
   "source": [
    "### 17. Jog the now-decoupled carriage backwards in the Y-axis direction until it fully clears your tool(s) and parking post(s)."
   ]
  },
  {
   "cell_type": "code",
   "execution_count": 21,
   "id": "346c8144-cdcd-45aa-b260-628336c6c64b",
   "metadata": {},
   "outputs": [
    {
     "data": {
      "application/vnd.jupyter.widget-view+json": {
       "model_id": "aa3f2cf1157249378c007529ffb201f5",
       "version_major": 2,
       "version_minor": 0
      },
      "text/plain": [
       "GridspecLayout(children=(Button(button_style='warning', description='+5mm', layout=Layout(grid_area='widget001…"
      ]
     },
     "execution_count": 21,
     "metadata": {},
     "output_type": "execute_result"
    }
   ],
   "source": [
    "# Move back in until the tool is comfortably cleared. \n",
    "control_panel"
   ]
  },
  {
   "cell_type": "markdown",
   "id": "71c8a54f-563e-4fde-9a96-e1acbf3f31aa",
   "metadata": {},
   "source": [
    "### 18. Update the relevant files for the tool you have just set up.\n",
    "There are 3 files which need to be updated with the values you've found. The files (or 'macros') are run each time we pick up a tool. We'll use template files to make this quicker–run the following cell to set up the templating engine. "
   ]
  },
  {
   "cell_type": "code",
   "execution_count": 48,
   "id": "759fca08",
   "metadata": {
    "tags": []
   },
   "outputs": [],
   "source": [
    "env = Environment(loader= FileSystemLoader(\"templates\"))"
   ]
  },
  {
   "cell_type": "markdown",
   "id": "377ddfa6",
   "metadata": {},
   "source": [
    "The `tpostx.g` file is called for tool number 'x' after the firmware thinks tool number x is selected. From the duet console, navigate to system-->tpostx.g, where x is the number of the tool you are currently calibrating--create the file if it doesn't yet exist. Run the following cell and replace the contents (i.e. copy-paste) with the output produced:"
   ]
  },
  {
   "cell_type": "code",
   "execution_count": 49,
   "id": "27e64377",
   "metadata": {
    "tags": []
   },
   "outputs": [
    {
     "name": "stdout",
     "output_type": "stream",
     "text": [
      "; tpost1.g\n",
      "; called after firmware thinks Tool1 is selected\n",
      "; Note: tool offsets are applied at this point!\n",
      "; Note that commands preempted with G53 will NOT apply the tool offset.\n",
      "\n",
      "; M116 P1                    ; Wait for set temperatures to be reached\n",
      "; M302 P1                    ; Prevent Cold Extrudes, just in case temp setpoints are at 0\n",
      "\n",
      "G90                        ; Ensure the machine is in absolute mode before issuing movements.\n",
      "\n",
      "G53 G1 X120.0 F6000           ; Move to the pickup position with tool-1.\n",
      "G53 G1 Y336.5 F6000\n",
      "M98 P\"/macros/tool_lock.g\" ; Lock the tool\n",
      "\n",
      "G1 R2 Z0                   ; Restore prior Z position before tool change was initiated.\n",
      "                           ; Note: tool tip position is automatically saved to slot 2 upon the start of a tool change.\n",
      "                           ; Restore Z first so we don't crash the tool on retraction.\n",
      "G1 R0 Y0                   ; Retract tool by restoring Y position next now accounting for new tool offset.\n",
      "                           ; Restoring Y next ensures the tool is fully removed from parking post.\n",
      "G1 R0 X0                   ; Restore X position now accounting for new tool offset.\n",
      "M106 R2                    ; restore print cooling fan speed\n"
     ]
    }
   ],
   "source": [
    "template = env.get_template(\"tpost.g\")\n",
    "tpost_content = template.render(tool_number=tool_number, x_park=x_park, \n",
    "                          y_park=y_park, y_clear=y_clear, manhattan_offset = manhattan_offset)\n",
    "\n",
    "print(tpost_content)"
   ]
  },
  {
   "cell_type": "markdown",
   "id": "97b00d70-b4c7-49fb-bda6-ef19cb97e10f",
   "metadata": {},
   "source": [
    "Similarly, `tfreex.g` runs at the start of a toolchange if the current tool is tool-x. Again, run the following cell and copy-paste the output into tfreex.g, replacing any contents that were there or creating the file if it doesn't exist:"
   ]
  },
  {
   "cell_type": "code",
   "execution_count": 50,
   "id": "26cda35a-9c7b-4626-90e8-250cb17e13ce",
   "metadata": {
    "scrolled": true,
    "tags": []
   },
   "outputs": [
    {
     "name": "stdout",
     "output_type": "stream",
     "text": [
      "; tfree1.g\n",
      "; Runs at the start of a toolchange if the current tool is tool-1.\n",
      "; Note: tool offsets are applied at this point unless we preempt commands with G53!\n",
      "\n",
      "G91                          ; Relative Mode.\n",
      "G1 Z2                        ; Pop Z up slightly so we don't crash while traveling over the usable bed region.\n",
      "G90                          ; Absolute Mode.\n",
      "\n",
      "G53 G0 X120.0 Y280.0 F12000    ; Rapid to the back of the post. Stay away from the tool rack so we don't collide with tools.\n",
      "                             ; This position must be chosen such that the most protruding y face of the current tool\n",
      "                             ; (while on the carriage) does not collide with the most protruding y face of any parked tool.\n",
      "\n",
      "G53 G1 Y336.5 F6000            ; Controlled move to the park position with tool-1. (park_x, park_y)\n",
      "M98 P\"/macros/tool_unlock.g\" ; Unlock the tool\n",
      "G53 G1 Y305 F6000            ; Retract the pin.\n"
     ]
    }
   ],
   "source": [
    "template = env.get_template(\"tfree.g\")\n",
    "tfree_content = template.render(tool_number=tool_number, x_park=x_park, \n",
    "                          y_park=y_park, y_clear=y_clear, manhattan_offset = manhattan_offset)\n",
    "\n",
    "print(tfree_content)"
   ]
  },
  {
   "cell_type": "markdown",
   "id": "22deea68-3d1c-42f0-b1f0-a76bd0d9dc62",
   "metadata": {},
   "source": [
    "Finally, the tprex.g file is where the carriage will move to immediately before & after picking up a tool. Run the following call and replace tpre.x with the output or create it if it doesn't exist:"
   ]
  },
  {
   "cell_type": "code",
   "execution_count": 51,
   "id": "7831307b-e556-4d39-a18f-486265e89d74",
   "metadata": {
    "tags": []
   },
   "outputs": [
    {
     "name": "stdout",
     "output_type": "stream",
     "text": [
      "; tpre1.g\n",
      "; Runs after freeing the previous tool if the next tool is tool-1.\n",
      "; Note: tool offsets are not applied at this point!\n",
      "\n",
      "G90                   ; Ensure the machine is in absolute mode before issuing movements.\n",
      "G0 X120.0 Y280.0 F20000 ; Rapid to the approach position without any current tool.\n",
      "G60 S0                ; Save this position as the reference point from which to later apply new tool offsets.\n"
     ]
    }
   ],
   "source": [
    "template = env.get_template(\"tpre.g\")\n",
    "tpre_content = template.render(tool_number=tool_number, x_park=x_park, \n",
    "                          y_park=y_park, y_clear=y_clear, manhattan_offset = manhattan_offset)\n",
    "\n",
    "print(tpre_content)"
   ]
  },
  {
   "cell_type": "markdown",
   "id": "966bd754-abb8-4cd9-8fa3-861493df401b",
   "metadata": {},
   "source": [
    "### 19. Try out a tool change to the new parking post using the Tx command!\n",
    "Test both selecting a tool and parking it. While testing, check to see if your setup needs a few tweaks to make sure the lock pin fully engages the ramp (change the Y-axis value used in tpost - higher Y values move the locking carriage closer to the tool dock) upon locking. Check to see if the tool has been docked correctly after unlocking (change the Y-axis values in tfree to adjust this to your needs)."
   ]
  },
  {
   "cell_type": "code",
   "execution_count": 52,
   "id": "f697a181-fb4a-460f-8b43-9163a808445a",
   "metadata": {
    "tags": []
   },
   "outputs": [],
   "source": [
    "# Load your tool\n",
    "tool = Tool(tool_number, tool_name)\n",
    "m.load_tool(tool)"
   ]
  },
  {
   "cell_type": "code",
   "execution_count": 53,
   "id": "dc3722b7-16ea-4f3c-9902-0c0427bd2b27",
   "metadata": {
    "tags": []
   },
   "outputs": [],
   "source": [
    "m.pickup_tool(tool)"
   ]
  },
  {
   "cell_type": "code",
   "execution_count": 54,
   "id": "bfc70769-cd9d-48cd-b8d4-6ef59d5f9530",
   "metadata": {
    "tags": []
   },
   "outputs": [],
   "source": [
    "m.park_tool()"
   ]
  }
 ],
 "metadata": {
  "kernelspec": {
   "display_name": "science_jubilee",
   "language": "python",
   "name": "science_jubilee"
  },
  "language_info": {
   "codemirror_mode": {
    "name": "ipython",
    "version": 3
   },
   "file_extension": ".py",
   "mimetype": "text/x-python",
   "name": "python",
   "nbconvert_exporter": "python",
   "pygments_lexer": "ipython3",
   "version": "3.10.4"
  }
 },
 "nbformat": 4,
 "nbformat_minor": 5
}
