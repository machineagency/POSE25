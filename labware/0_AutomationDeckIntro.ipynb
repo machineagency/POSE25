{
 "cells": [
  {
   "cell_type": "markdown",
   "id": "54228733-8614-4903-b8ca-c250bf63864b",
   "metadata": {},
   "source": [
    "# Laboratory Automation Deck Intro\n",
    "This example notebook will introduce the laboratory automation deck!\n",
    "\n",
    "### Before Starting:\n",
    "- Clear any existing items off the bed of your machine!\n",
    "- A lab automation deck should be installed on your machine."
   ]
  },
  {
   "cell_type": "markdown",
   "id": "b8d48a93",
   "metadata": {},
   "source": [
    "The standard lab automation deck consists of 6 slots (indices 0-5) that accept an [ANSI/SLAS](https://www.slas.org/education/ansi-slas-microplate-standards/) standard microplate, or any piece of labware that adheres to the footprint dimensions of this standard. Optional garbage containers can be attached, though we do not have any attached for this workshop.\n",
    "\n",
    "<center>\n",
    "    <img src=\"images/plate.png\" width=\"500\"/>\n",
    "</center>\n",
    "\n",
    "The deck is oriented as follows:\n",
    "\n",
    "<center>\n",
    "    <img src=\"images/deck_layout.png\" width=\"500\"/>\n",
    "</center>\n",
    "\n",
    "The deck requires up-front calibration know the precise location of each slot. This has already been done for you if there is a deck pre-installed on your machine! If you need to do this again for any reason, see the [deck calibration notebook](../calibration/LabAutomationDeckCalibration.ipynb)."
   ]
  },
  {
   "cell_type": "markdown",
   "id": "41df0bcd",
   "metadata": {},
   "source": [
    "### Import modules and connect to the machine"
   ]
  },
  {
   "cell_type": "code",
   "execution_count": null,
   "id": "10271711-9d69-437b-b94f-aeda94e20850",
   "metadata": {
    "tags": []
   },
   "outputs": [],
   "source": [
    "# Import Machine and Deck modules\n",
    "from science_jubilee.Machine import Machine\n",
    "from science_jubilee.decks import Deck"
   ]
  },
  {
   "cell_type": "code",
   "execution_count": null,
   "id": "1dd73566-8a78-49b4-b1d2-a877fed510e5",
   "metadata": {
    "tags": []
   },
   "outputs": [],
   "source": [
    "# Connect to your machine\n",
    "m = Machine(address='192.168.1.2')"
   ]
  },
  {
   "cell_type": "markdown",
   "id": "5e773d7a-245a-4861-b3ea-10e130a9e484",
   "metadata": {},
   "source": [
    "### Load the Deck configuration\n",
    "There is a pre-calibrated file for you machine named `lab_automation_deck`. Load it as follows:"
   ]
  },
  {
   "cell_type": "code",
   "execution_count": null,
   "id": "902bd381-18e0-4407-a710-aabfbea28310",
   "metadata": {
    "tags": []
   },
   "outputs": [],
   "source": [
    "deck = m.load_deck('lab_automation_deck') # loads a calibration file named 'lab_automation_deck'. \n",
    "                                          # if you make a new calibration file, change this name accordingly"
   ]
  },
  {
   "cell_type": "code",
   "execution_count": null,
   "id": "abb82972-9ba8-435c-8199-b4b4a09a6719",
   "metadata": {
    "tags": []
   },
   "outputs": [],
   "source": [
    "# The lab automation deck has 6 slots:\n",
    "deck.slots"
   ]
  },
  {
   "cell_type": "markdown",
   "id": "59ba8274",
   "metadata": {},
   "source": [
    "Currently, all the slots are empty! To install labware into the machine, move on to the [Labware Intro](1_LabwareIntro.ipynb)."
   ]
  }
 ],
 "metadata": {
  "kernelspec": {
   "display_name": "POSE25-311",
   "language": "python",
   "name": "pose25-311"
  },
  "language_info": {
   "codemirror_mode": {
    "name": "ipython",
    "version": 3
   },
   "file_extension": ".py",
   "mimetype": "text/x-python",
   "name": "python",
   "nbconvert_exporter": "python",
   "pygments_lexer": "ipython3",
   "version": "3.11.9"
  }
 },
 "nbformat": 4,
 "nbformat_minor": 5
}
