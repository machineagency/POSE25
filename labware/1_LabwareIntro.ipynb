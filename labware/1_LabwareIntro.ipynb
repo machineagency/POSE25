{
 "cells": [
  {
   "cell_type": "markdown",
   "id": "54228733-8614-4903-b8ca-c250bf63864b",
   "metadata": {},
   "source": [
    "# Installing Labware!\n",
    "This example notebook will show you how to install labware on a machine with a lab automation deck and navigate wells. It assumes you know a little bit about the [laboratory automation deck](./0_AutomationDeckIntro.ipynb).\n",
    "\n",
    "### Before Starting:\n",
    "- Clear any existing items off the bed of your machine!\n",
    "- A lab automation deck should be installed on your machine."
   ]
  },
  {
   "cell_type": "markdown",
   "id": "4e5cdc9c",
   "metadata": {},
   "source": [
    "### Import modules and connect to the machine"
   ]
  },
  {
   "cell_type": "code",
   "execution_count": null,
   "id": "10271711-9d69-437b-b94f-aeda94e20850",
   "metadata": {
    "tags": []
   },
   "outputs": [],
   "source": [
    "# Import Machine and Deck modules\n",
    "from science_jubilee.Machine import Machine\n",
    "from science_jubilee.decks import Deck\n",
    "from science_jubilee.labware.Labware import Labware\n",
    "import os"
   ]
  },
  {
   "cell_type": "code",
   "execution_count": null,
   "id": "1dd73566-8a78-49b4-b1d2-a877fed510e5",
   "metadata": {
    "tags": []
   },
   "outputs": [],
   "source": [
    "# Connect to the machine\n",
    "m = Machine(address='192.168.1.2')"
   ]
  },
  {
   "cell_type": "markdown",
   "id": "5e773d7a-245a-4861-b3ea-10e130a9e484",
   "metadata": {},
   "source": [
    "### Load the Deck configuration"
   ]
  },
  {
   "cell_type": "code",
   "execution_count": null,
   "id": "902bd381-18e0-4407-a710-aabfbea28310",
   "metadata": {
    "tags": []
   },
   "outputs": [],
   "source": [
    "deck = m.load_deck('lab_automation_deck')\n",
    "deck.slots # Slots are empty to start"
   ]
  },
  {
   "cell_type": "markdown",
   "id": "aa5396c7-0bca-4c46-ac68-4cceab8c81aa",
   "metadata": {},
   "source": [
    "### Load Labware\n",
    "Now we can tell science jubilee what labware we'd like to install! Each labware has an associated definition which specifies how the wells of this labware are laid out. In general, labware is named in the following format:\n",
    "```\n",
    "<brand>_<number_of_wells>_<labware_type>_<well_volume>_<extra_identifiers>.json\n",
    "```\n",
    "For example, a Corning 96 well plate has the name `corning_96_wellplate_360ul_flat.json`."
   ]
  },
  {
   "cell_type": "code",
   "execution_count": null,
   "id": "8e1195cf",
   "metadata": {},
   "outputs": [],
   "source": [
    "# We can check all the existing labware definitions:\n",
    "Labware.list_labware_definitions()"
   ]
  },
  {
   "cell_type": "markdown",
   "id": "b972f335",
   "metadata": {},
   "source": [
    "As an example, we'll install a greiner 24 well plate into slot 0, and a generic petri dish into slot 1. First, we'll load them in software:"
   ]
  },
  {
   "cell_type": "code",
   "execution_count": null,
   "id": "29250708-bf42-428d-aee0-29e2f2808e56",
   "metadata": {
    "tags": []
   },
   "outputs": [],
   "source": [
    "# Specify the slot to install your labware\n",
    "# Change the name of the labware if you're using something different!\n",
    "labwareA = m.load_labware(\"greiner_24_wellplate_3300ul\", 0) ## (labware name, slot number)\n",
    "labwareB = m.load_labware(\"generic_petri_dish_100ml\", 1)"
   ]
  },
  {
   "cell_type": "code",
   "execution_count": null,
   "id": "d022421f-f7eb-4d2e-b2a4-287ee1e08e63",
   "metadata": {
    "tags": []
   },
   "outputs": [],
   "source": [
    "# You can see that Slots 0 and 1 are now populated\n",
    "deck.slots"
   ]
  },
  {
   "cell_type": "markdown",
   "id": "98014f21",
   "metadata": {},
   "source": [
    "After loading the labware in software, we need to physically install the labware in the machine! The following cell will drop the bed down so you have room to install the labware. When installing, be sure to orient the labware correctly: Well A1 should be on the side *closer* to the rail where the tools are parked:\n",
    "<center>\n",
    "    <img src=\"images/deck_layout.png\" width=\"500\"/>\n",
    "</center>"
   ]
  },
  {
   "cell_type": "code",
   "execution_count": null,
   "id": "a6f82dd9-3c10-47e3-b3b0-c4ed42ecd3b2",
   "metadata": {},
   "outputs": [],
   "source": [
    "# Physically install your labware into the relevant slots of the machine!\n",
    "# You can drop the bed down to make room for this \n",
    "# The machine will move when you run this cell!\n",
    "m.move_to(z = 150)"
   ]
  },
  {
   "cell_type": "markdown",
   "id": "e47e4ef9-b447-444b-9695-ce3c5d4503de",
   "metadata": {
    "tags": []
   },
   "source": [
    "### Navigating Labware"
   ]
  },
  {
   "cell_type": "code",
   "execution_count": null,
   "id": "fabd6125-2029-4ad0-99b9-56d8326576be",
   "metadata": {
    "tags": []
   },
   "outputs": [],
   "source": [
    "# You can access wells of your labware by ID. For example, to get the x and y position of a well:\n",
    "well = labwareA[\"A4\"]\n",
    "print(f\"X: {well.x} Y: {well.y}\")"
   ]
  },
  {
   "cell_type": "code",
   "execution_count": null,
   "id": "86c2d790-5ea8-4822-b2f2-1613f5391ad7",
   "metadata": {
    "tags": []
   },
   "outputs": [],
   "source": [
    "# Now you can move to that well\n",
    "m.move_to(x = well.x, y = well.y)"
   ]
  },
  {
   "cell_type": "markdown",
   "id": "c92f29ad",
   "metadata": {},
   "source": [
    "### Safety Considerations\n",
    "Note that when we directly move around the machine (e.g. with `move_to` commands), there is nothing stopping us from colliding with installed labware! This is useful if you want to e.g. probe inside a well, but be careful before sending commands with labware installed. Whend doing liquid handling with the pipette tool, there are some built-in safety features to avoid this sort of thing."
   ]
  }
 ],
 "metadata": {
  "kernelspec": {
   "display_name": "POSE25-311",
   "language": "python",
   "name": "pose25-311"
  },
  "language_info": {
   "codemirror_mode": {
    "name": "ipython",
    "version": 3
   },
   "file_extension": ".py",
   "mimetype": "text/x-python",
   "name": "python",
   "nbconvert_exporter": "python",
   "pygments_lexer": "ipython3",
   "version": "3.11.9"
  }
 },
 "nbformat": 4,
 "nbformat_minor": 5
}
