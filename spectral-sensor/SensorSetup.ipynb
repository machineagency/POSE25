{
 "cells": [
  {
   "cell_type": "markdown",
   "id": "85a5d29e-2269-4d63-8c89-eed9e8cb022f",
   "metadata": {
    "tags": []
   },
   "source": [
    "## Setting up a new sensor as science-jubilee toolhead\n",
    "\n",
    "This notebook will walk through setting up a new sensor!"
   ]
  },
  {
   "cell_type": "markdown",
   "id": "b6c13e4b",
   "metadata": {},
   "source": [
    "## Introduction\n",
    "\n",
    "Making a sensor tool on Jubilee is easy - grab a sensor, bolt it down onto a tool head, and use it!\n",
    "\n",
    "We are using a modular approach to integrate sensor(s). Each sensor is wired to its own microcontroller node that is then connected to a laptop/raspberry pi for orchestration within the science-jubilee framework.\n",
    "\n",
    "First, program the node so that it communicates with science-jubilee via serial. The node is a custom pcb with Seeed Xiao as its brain and has a I2C connector.\n",
    "\n",
    "![Seeed microcontroller](images/microcontroller.png)"
   ]
  },
  {
   "cell_type": "markdown",
   "id": "b7290adc",
   "metadata": {},
   "source": [
    "### Installing CircuitPython on ESP32 (OPTIONAL EXERCISE)\n",
    "\n",
    "***The microcontrollers provided have been flashed with CircuitPython; this section is for documentation purpose.***\n",
    "\n",
    "There is no Xiao ESP32S3-specific CircuitPython .bin firmware as of Jan 21 2024, so using [Espressif - ESP32-S3-DevKitM-1-N8](https://circuitpython.org/board/espressif_esp32s3_devkitm_1_n8/) is currently the best way to do it. Download the latest .bin from the link.\n",
    "\n",
    "Adafruit released CircuitPython for Xiao ESP32S3 in Jan 2025 so you can also install [this](https://circuitpython.org/board/seeed_xiao_esp32s3_sense/).\n",
    "\n",
    "### Installing the Firmware\n",
    "\n",
    "This must be done over serial. We are using `esptool`, but there is also guidance on how to use the web serial browser based tool (easy method, but requires a Chrome webbrowser).\n",
    "\n",
    "In the terminal, install esptool using pip if you haven't yet. More instruction can be found [here](https://docs.espressif.com/projects/esptool/en/latest/esp32/index.html#quick-start)\n",
    "\n",
    "```\n",
    "pip install esptool\n",
    "```\n",
    "\n",
    "Find all serial devices by running `ls /dev/tty.*`. On Mac it is usually `/dev/tty.usbmodem******`.\n",
    "\n",
    "Once you have esptool installed, you will first want to erase the flash on your ESP32 board, it's also a great way to determine that you are able to connect. Change the serial address to the one that shows up on your terminal. I'm using ESP32S3 so the chip argument is also changed.\n",
    "\n",
    "`esptool.py --chip esp32s3 --port /dev/tty.usbmodem142401 erase_flash`\n",
    "\n",
    "If you're not 100% sure which ESP32 chip you have, you can just specify the port: `esptool.py --port /dev/tty.usbmodem****** erase_flash`\n",
    "\n",
    "Once the flash is successfully erased, you can load your firmware `.bin` file by running something similar to the command below. Make sure you update the following:\n",
    "\n",
    "- The port to match the serial port to which your board is connected, i.e. change /dev/tty.usbsmodem****** to match your connection.\n",
    "\n",
    "- The **firmware.bin** file name to match the firmware you downloaded, i.e. change firmware.bin to something like `adafruit-circuitpython-espressif_esp32s3_devkitm_1_n8-en_US-8.2.9.bin`. \n",
    "\n",
    "- This command assumes you will be loading it to address 0x0, as we do for circuitpython. This may not be true for your firmware! check the documentation for the offset if necessary.\n",
    "\n",
    "Load the firmware using something similar to the following command, with the above changes:\n",
    "\n",
    "`esptool.py --port /dev/tty.usbmodem142401 write_flash -z 0x0 adafruit-circuitpython-espressif_esp32s3_devkitm_1_n8-en_US-9.2.0.bin`\n",
    "\n",
    "You will then see a flash storage unit named `CIRCUITPY` popping up."
   ]
  },
  {
   "cell_type": "markdown",
   "id": "d0155778",
   "metadata": {},
   "source": [
    "### Adding CircuitPython firmware\n",
    "\n",
    "In the `CIRCUITPY` device there should be a `code.py`, a `boot.py`, a `boot.out` (used for debugging only), and a directory `lib`.\n",
    "\n",
    "The [basic code](Seeed_files/code.py) has a `blink` function which blinks the on-board LED. [`boot.py`](Seeed_files/boot.py) is used for initializing sensor communication. `code.py` can be shared among microcontrollers while `boot.py` should contain sensor-specific setup code.\n",
    "\n",
    "We want to setup AS7314 spectrometer. It comes with its own CircuitPython library, which needs to be added to the `lib` folder first.\n",
    "\n",
    "***Alternatively***, copy the entire `lib` folder containing all current libraries available for CircuitPython. Adafruit maintains and updates these libraries and the latest bundle can be found [here](https://circuitpython.org/libraries) (note that there might be compatibility issue).\n",
    "\n",
    "#### Step 1\n",
    "\n",
    "Copy [everything in this folder](Seeed_files) into CIRCUITPY.\n",
    "\n",
    "#### Step 2\n",
    "\n",
    "Add sensor-specific code to boot. Paste the following code into `boot.py`.\n",
    "\n",
    "```python\n",
    "# function to initialize the sensor on I2C\n",
    "def initialize_peripherals():\n",
    "    i2c = busio.I2C(board.IO6, board.IO5) # initialize I2C\n",
    "    sensor = AS7341(i2c) # initialize sensor\n",
    "    return sensor\n",
    "\n",
    "# Initialize\n",
    "sensor = initialize_peripherals() # initialize the sensor which will be imported on the code.py file\n",
    "```\n",
    "#### Step 3\n",
    "\n",
    "Add sensor-specific function to the class in the main program. Paste the following code following the `blink` example code; make sure the indentation is correct.\n",
    "\n",
    "```python\n",
    "    def case_spec(self, param=None):\n",
    "        sensor.led_current = int(param) # set LED current using the input argument\n",
    "        time.sleep(1) # let it illuminate for 1 second\n",
    "        # read the sensor data\n",
    "        data = { # sensor data stored as a dictionary\n",
    "            '415': sensor.channel_415nm,\n",
    "            '445': sensor.channel_445nm,\n",
    "            '480': sensor.channel_480nm,\n",
    "            '515': sensor.channel_515nm,\n",
    "            '555': sensor.channel_555nm,\n",
    "            '590': sensor.channel_590nm,\n",
    "            '630': sensor.channel_630nm,\n",
    "            '680': sensor.channel_680nm,\n",
    "        }\n",
    "        print(data) # print the sensor data via serial back to science jubilee. On science jubilee, data is received as a str\n",
    "        sensor.led_current = 0 #turn off LED\n",
    "```\n",
    "\n",
    "#### Step 4\n",
    "\n",
    "When working with a new tool, you will need to add tool definition to Science Jubilee. Check [extending-science-jubilee](../extending-science-jubilee/readme.md) for more detail!\n",
    "\n",
    "The spectral sensor is already added to the science-jubilee library.\n",
    "\n",
    "#### Step 5\n",
    "\n",
    "Use it!"
   ]
  },
  {
   "cell_type": "code",
   "execution_count": null,
   "id": "f664cca6-6374-4dbb-9991-60051823a967",
   "metadata": {
    "tags": []
   },
   "outputs": [],
   "source": [
    "# import science jybilee\n",
    "from science_jubilee.Machine import Machine\n",
    "# import the new tool\n",
    "from science_jubilee.tools.AS7341 import AS7341\n",
    "# import json for data handling\n",
    "import json"
   ]
  },
  {
   "cell_type": "code",
   "execution_count": 6,
   "id": "089a2e5c-12e2-4b0b-b254-73319f385905",
   "metadata": {
    "tags": []
   },
   "outputs": [],
   "source": [
    "# Connect to the machine\n",
    "m = Machine(address='192.168.1.2')"
   ]
  },
  {
   "cell_type": "code",
   "execution_count": null,
   "id": "cf023e6f-1a30-4ca4-93d4-4ff0cde3e764",
   "metadata": {
    "tags": []
   },
   "outputs": [],
   "source": [
    "# define the tool\n",
    "spec = AS7341(index = 0, name = \"AS7341 spectral sensor\", config = \"AS7341\")\n",
    "# load the tool\n",
    "m.load_tool(spec)"
   ]
  },
  {
   "cell_type": "code",
   "execution_count": 4,
   "id": "dedde4f9-590e-4b34-8ef0-7de96d1065c6",
   "metadata": {
    "tags": []
   },
   "outputs": [],
   "source": [
    "# pick up the spectral sensor tool!\n",
    "m.pickup_tool(spec)\n",
    "\n",
    "# sensors are controlled by and communicated via nodes! and nodes need to be connected to the pi first ->\n",
    "spec.connect_seeed() \n",
    "# we only have one node now so there is no need for an index \n",
    "# but we will probably get to multiple sensors later\n",
    "\n",
    "# blink the connected node! the argument in the blink function is the duration of blinking in second\n",
    "spec.blink(\"1\")"
   ]
  },
  {
   "cell_type": "code",
   "execution_count": null,
   "id": "30aae3c4-6ba7-4841-a0c5-272d935b5a9c",
   "metadata": {
    "tags": []
   },
   "outputs": [],
   "source": [
    "# yay it blinks! now let's take a measurement\n",
    "# optional: move the sensor around to be closer to the object you want to measure\n",
    "m.move_to(z=0)\n",
    "# moving it below z=0 is possible but dangerous!\n",
    "# the argument is the current of the LEDs surrounding the spectral sensor\n",
    "# range: 0 - 40 mA\n",
    "spec.measure_spectrum(3)"
   ]
  },
  {
   "cell_type": "code",
   "execution_count": 10,
   "id": "fd32378c-a753-4d93-b5ce-855ba10d88b2",
   "metadata": {},
   "outputs": [],
   "source": [
    "# Misc.\n",
    "# Dropoff tool!\n",
    "m.park_tool()"
   ]
  }
 ],
 "metadata": {
  "kernelspec": {
   "display_name": "Python 3 (ipykernel)",
   "language": "python",
   "name": "python3"
  },
  "language_info": {
   "codemirror_mode": {
    "name": "ipython",
    "version": 3
   },
   "file_extension": ".py",
   "mimetype": "text/x-python",
   "name": "python",
   "nbconvert_exporter": "python",
   "pygments_lexer": "ipython3",
   "version": "3.12.9"
  }
 },
 "nbformat": 4,
 "nbformat_minor": 5
}
