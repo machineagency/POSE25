{
<<<<<<< HEAD
   "cells": [
    {
     "cell_type": "markdown",
     "id": "dc8c0745-1345-4257-896b-844d03fa7456",
     "metadata": {},
     "source": [
      "# Jogging the Machine!\n",
      "This example notebook will help you move Jubilee around. \n",
      "\n",
      "### Before Starting:\n",
      "Clear any existing items off the bed of your Jubilee!"
     ]
    },
    {
     "cell_type": "code",
     "execution_count": null,
     "id": "7731885e-8dc5-4c7e-a43c-685f6c8d5613",
     "metadata": {
      "tags": []
     },
     "outputs": [],
     "source": [
      "# Import the machine module\n",
      "from science_jubilee.Machine import Machine"
     ]
    },
    {
     "cell_type": "code",
     "execution_count": null,
     "id": "0a48dcb8-04f9-429c-ba52-70ed745e8377",
     "metadata": {
      "tags": []
     },
     "outputs": [],
     "source": [
      "# Connect to the machine\n",
      "m = Machine(address='192.168.1.2')"
     ]
    },
    {
     "cell_type": "code",
     "execution_count": null,
     "id": "3cba5d1f",
     "metadata": {},
     "outputs": [],
     "source": [
      "# m.home_all() # if you need to, uncomment this line to home the machine"
     ]
    },
    {
     "cell_type": "markdown",
     "id": "9174dbfc-a106-4d7c-bdb1-d2c62fc24ef3",
     "metadata": {},
     "source": [
      "### Absolute moves with move_to\n",
      "To move to an absolute position, use the move_to command!"
     ]
    },
    {
     "cell_type": "code",
     "execution_count": null,
     "id": "67bbe9d4-0642-4b43-ae29-bc8351903ca8",
     "metadata": {
      "tags": []
     },
     "outputs": [],
     "source": [
      "# Drop the bed down\n",
      "m.move_to(z=150)"
     ]
    },
    {
     "cell_type": "code",
     "execution_count": null,
     "id": "4d07bccb-08d3-4fcc-8e53-0b672a153880",
     "metadata": {
      "tags": []
     },
     "outputs": [],
     "source": [
      "# Move in X\n",
      "m.move_to(x=100)"
     ]
    },
    {
     "cell_type": "code",
     "execution_count": null,
     "id": "6c1ce6d8-f719-4dae-b97b-8acbdc776124",
     "metadata": {
      "tags": []
     },
     "outputs": [],
     "source": [
      "# Move in Y\n",
      "m.move_to(y=200)"
     ]
    },
    {
     "cell_type": "code",
     "execution_count": null,
     "id": "cc2f53d7-c6e7-4454-bf26-0284e1548b91",
     "metadata": {
      "tags": []
     },
     "outputs": [],
     "source": [
      "# Specify a speed with the s parameter\n",
      "# Units are in mm/min!\n",
      "\n",
      "# Move in X slowly at 500 mm/min\n",
      "m.move_to(x = 200, s = 500)"
     ]
    },
    {
     "cell_type": "code",
     "execution_count": null,
     "id": "c246f57c-f2f7-46cb-bbc0-6f446bc255e4",
     "metadata": {
      "tags": []
     },
     "outputs": [],
     "source": [
      "# mm/min are a funny unit, we can specify speeds in mm/sec with the following function\n",
      "def mm_sec(speed):\n",
      "    # Converts a speed in mm/sec to mm/min to be used by the machine\n",
      "    return speed * 60.0"
     ]
    },
    {
     "cell_type": "code",
     "execution_count": null,
     "id": "4674305e-2800-4d12-a9a9-3d1eab654b5f",
     "metadata": {
      "tags": []
     },
     "outputs": [],
     "source": [
      "# Move in X and Y quickly at 150 mm/sec\n",
      "m.move_to(x = 100, y = 100, s = mm_sec(150))"
     ]
    },
    {
     "cell_type": "markdown",
     "id": "15b1c5b7-6605-4c61-ba47-720e6b7537c1",
     "metadata": {},
     "source": [
      "### Relative moves with move\n",
      "To move relative to the current position, use the move command!"
     ]
    },
    {
     "cell_type": "code",
     "execution_count": null,
     "id": "64a8251a-438f-414b-b76d-6baaa2e6597a",
     "metadata": {
      "tags": []
     },
     "outputs": [],
     "source": [
      "# Increment X by 10 mm\n",
      "m.move(dx = 5)"
     ]
    },
    {
     "cell_type": "code",
     "execution_count": null,
     "id": "6a0f72ff-5cbb-4a23-b569-48ba6277dfa9",
     "metadata": {
      "tags": []
     },
     "outputs": [],
     "source": [
      "# Increment Z by -10\n",
      "m.move(dz = -10)"
     ]
    },
    {
     "cell_type": "code",
     "execution_count": null,
     "id": "dfb5c5f0-8d02-478f-b7e4-daf7fbd11693",
     "metadata": {
      "tags": []
     },
     "outputs": [],
     "source": [
      "# Move slowly in X, Y, and Z\n",
      "m.move(dx = 5, dy = 5, dz = 5, s = mm_sec(10))"
     ]
    },
    {
     "cell_type": "code",
     "execution_count": null,
     "id": "799962de-bf11-4ff0-a310-d3ff081b2a76",
     "metadata": {
      "tags": []
     },
     "outputs": [],
     "source": [
      "# Check where we've ended up with get_position\n",
      "# get_position returns a dictionary with the position of each axis of the machine\n",
      "m.get_position()"
     ]
    }
   ],
   "metadata": {
    "kernelspec": {
     "display_name": "Python 3 (ipykernel)",
     "language": "python",
     "name": "python3"
    },
    "language_info": {
     "codemirror_mode": {
      "name": "ipython",
      "version": 3
     },
     "file_extension": ".py",
     "mimetype": "text/x-python",
     "name": "python",
     "nbconvert_exporter": "python",
     "pygments_lexer": "ipython3",
     "version": "3.12.9"
    }
   },
   "nbformat": 4,
   "nbformat_minor": 5
  }
=======
 "cells": [
  {
   "cell_type": "markdown",
   "id": "dc8c0745-1345-4257-896b-844d03fa7456",
   "metadata": {},
   "source": [
    "# Jogging the Machine!\n",
    "This example notebook will help you move Jubilee around. \n",
    "\n",
    "### Before Starting:\n",
    "Clear any existing items off the bed of your Jubilee!"
   ]
  },
  {
   "cell_type": "code",
   "execution_count": null,
   "id": "7731885e-8dc5-4c7e-a43c-685f6c8d5613",
   "metadata": {
    "tags": []
   },
   "outputs": [],
   "source": [
    "# Import the machine module\n",
    "from science_jubilee.Machine import Machine"
   ]
  },
  {
   "cell_type": "code",
   "execution_count": null,
   "id": "0a48dcb8-04f9-429c-ba52-70ed745e8377",
   "metadata": {
    "tags": []
   },
   "outputs": [],
   "source": [
    "# Connect to the machine\n",
    "m = Machine(address='192.168.1.2')"
   ]
  },
  {
   "cell_type": "code",
   "execution_count": null,
   "id": "3cba5d1f",
   "metadata": {},
   "outputs": [],
   "source": [
    "# m.home_all() # if you need to, uncomment this line to home the machine"
   ]
  },
  {
   "cell_type": "markdown",
   "id": "9174dbfc-a106-4d7c-bdb1-d2c62fc24ef3",
   "metadata": {},
   "source": [
    "### Absolute moves with move_to\n",
    "To move to an absolute position, use the move_to command!"
   ]
  },
  {
   "cell_type": "code",
   "execution_count": null,
   "id": "67bbe9d4-0642-4b43-ae29-bc8351903ca8",
   "metadata": {
    "tags": []
   },
   "outputs": [],
   "source": [
    "# Drop the bed down\n",
    "m.move_to(z=150)"
   ]
  },
  {
   "cell_type": "code",
   "execution_count": null,
   "id": "4d07bccb-08d3-4fcc-8e53-0b672a153880",
   "metadata": {
    "tags": []
   },
   "outputs": [],
   "source": [
    "# Move in X\n",
    "m.move_to(x=100)"
   ]
  },
  {
   "cell_type": "code",
   "execution_count": null,
   "id": "6c1ce6d8-f719-4dae-b97b-8acbdc776124",
   "metadata": {
    "tags": []
   },
   "outputs": [],
   "source": [
    "# Move in Y\n",
    "m.move_to(y=200)"
   ]
  },
  {
   "cell_type": "code",
   "execution_count": null,
   "id": "cc2f53d7-c6e7-4454-bf26-0284e1548b91",
   "metadata": {
    "tags": []
   },
   "outputs": [],
   "source": [
    "# Specify a speed with the s parameter\n",
    "# Units are in mm/min!\n",
    "\n",
    "# Move in X slowly at 500 mm/min\n",
    "m.move_to(x = 200, s = 500)"
   ]
  },
  {
   "cell_type": "code",
   "execution_count": null,
   "id": "c246f57c-f2f7-46cb-bbc0-6f446bc255e4",
   "metadata": {
    "tags": []
   },
   "outputs": [],
   "source": [
    "# mm/min are a funny unit, we can specify speeds in mm/sec with the following function\n",
    "def mm_sec(speed):\n",
    "    # Converts a speed in mm/sec to mm/min to be used by the machine\n",
    "    return speed * 60.0"
   ]
  },
  {
   "cell_type": "code",
   "execution_count": null,
   "id": "4674305e-2800-4d12-a9a9-3d1eab654b5f",
   "metadata": {
    "tags": []
   },
   "outputs": [],
   "source": [
    "# Move in X and Y quickly at 150 mm/sec\n",
    "m.move_to(x = 100, y = 100, s = mm_sec(150))"
   ]
  },
  {
   "cell_type": "markdown",
   "id": "15b1c5b7-6605-4c61-ba47-720e6b7537c1",
   "metadata": {},
   "source": [
    "### Relative moves with move\n",
    "To move relative to the current position, use the move command!"
   ]
  },
  {
   "cell_type": "code",
   "execution_count": null,
   "id": "64a8251a-438f-414b-b76d-6baaa2e6597a",
   "metadata": {
    "tags": []
   },
   "outputs": [],
   "source": [
    "# Increment X by 10 mm\n",
    "m.move(dx = 5)"
   ]
  },
  {
   "cell_type": "code",
   "execution_count": null,
   "id": "6a0f72ff-5cbb-4a23-b569-48ba6277dfa9",
   "metadata": {
    "tags": []
   },
   "outputs": [],
   "source": [
    "# Increment Z by -10\n",
    "m.move(dz = -10)"
   ]
  },
  {
   "cell_type": "code",
   "execution_count": null,
   "id": "dfb5c5f0-8d02-478f-b7e4-daf7fbd11693",
   "metadata": {
    "tags": []
   },
   "outputs": [],
   "source": [
    "# Move slowly in X, Y, and Z\n",
    "m.move(dx = 5, dy = 5, dz = 5, s = mm_sec(10))"
   ]
  },
  {
   "cell_type": "code",
   "execution_count": null,
   "id": "799962de-bf11-4ff0-a310-d3ff081b2a76",
   "metadata": {
    "tags": []
   },
   "outputs": [],
   "source": [
    "# Check where we've ended up with get_position\n",
    "# get_position returns a dictionary with the position of each axis of the machine\n",
    "m.get_position()"
   ]
  }
 ],
 "metadata": {
  "kernelspec": {
   "display_name": "Python 3 (ipykernel)",
   "language": "python",
   "name": "python3"
  },
  "language_info": {
   "codemirror_mode": {
    "name": "ipython",
    "version": 3
   },
   "file_extension": ".py",
   "mimetype": "text/x-python",
   "name": "python",
   "nbconvert_exporter": "python",
   "pygments_lexer": "ipython3",
   "version": "3.12.9"
  }
 },
 "nbformat": 4,
 "nbformat_minor": 5
}
>>>>>>> 44b2f8c (update readme)
